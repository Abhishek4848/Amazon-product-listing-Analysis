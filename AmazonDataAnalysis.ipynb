{
  "nbformat": 4,
  "nbformat_minor": 0,
  "metadata": {
    "colab": {
      "name": "AmazonDataAnalysis.ipynb",
      "provenance": [],
      "collapsed_sections": [],
      "include_colab_link": true
    },
    "kernelspec": {
      "name": "python3",
      "display_name": "Python 3"
    }
  },
  "cells": [
    {
      "cell_type": "markdown",
      "metadata": {
        "id": "view-in-github",
        "colab_type": "text"
      },
      "source": [
        "<a href=\"https://colab.research.google.com/github/Abhishek4848/Amazon-product-listing-Analysis/blob/master/AmazonDataAnalysis.ipynb\" target=\"_parent\"><img src=\"https://colab.research.google.com/assets/colab-badge.svg\" alt=\"Open In Colab\"/></a>"
      ]
    },
    {
      "cell_type": "markdown",
      "metadata": {
        "id": "RC_BCAx97tCu"
      },
      "source": [
        "## Importing modules\n"
      ]
    },
    {
      "cell_type": "code",
      "metadata": {
        "id": "eVjqWxbX7w6K"
      },
      "source": [
        "import pandas as pd\n",
        "import numpy as np\n",
        "import matplotlib.pyplot as plt\n",
        "import seaborn as sns"
      ],
      "execution_count": 4,
      "outputs": []
    },
    {
      "cell_type": "code",
      "metadata": {
        "id": "-cpCL2eS76ZC"
      },
      "source": [
        "url = 'https://raw.githubusercontent.com/Abhishek4848/Amazon-product-listing-Analysis/master/AmazonData.csv'\n",
        "amzn = pd.read_csv(url, error_bad_lines=False)"
      ],
      "execution_count": 5,
      "outputs": []
    },
    {
      "cell_type": "code",
      "metadata": {
        "id": "vxn7GBIlAR3U",
        "outputId": "855dcef0-6aac-4708-a219-1ab6eaa6f2d4",
        "colab": {
          "base_uri": "https://localhost:8080/",
          "height": 669
        }
      },
      "source": [
        "amzn.head()"
      ],
      "execution_count": 6,
      "outputs": [
        {
          "output_type": "execute_result",
          "data": {
            "text/html": [
              "<div>\n",
              "<style scoped>\n",
              "    .dataframe tbody tr th:only-of-type {\n",
              "        vertical-align: middle;\n",
              "    }\n",
              "\n",
              "    .dataframe tbody tr th {\n",
              "        vertical-align: top;\n",
              "    }\n",
              "\n",
              "    .dataframe thead th {\n",
              "        text-align: right;\n",
              "    }\n",
              "</style>\n",
              "<table border=\"1\" class=\"dataframe\">\n",
              "  <thead>\n",
              "    <tr style=\"text-align: right;\">\n",
              "      <th></th>\n",
              "      <th>Uniq Id</th>\n",
              "      <th>Crawl Timestamp</th>\n",
              "      <th>Category</th>\n",
              "      <th>Product Title</th>\n",
              "      <th>Product Description</th>\n",
              "      <th>Brand</th>\n",
              "      <th>Pack Size Or Quantity</th>\n",
              "      <th>Mrp</th>\n",
              "      <th>Price</th>\n",
              "      <th>Offers</th>\n",
              "      <th>Combo Offers</th>\n",
              "      <th>Stock Availibility</th>\n",
              "    </tr>\n",
              "  </thead>\n",
              "  <tbody>\n",
              "    <tr>\n",
              "      <th>0</th>\n",
              "      <td>eb49cc038190f6f03c272f79fbbce894</td>\n",
              "      <td>2019-10-30 11:38:11 +0000</td>\n",
              "      <td>Skin Care</td>\n",
              "      <td>Lee posh Lactic Acid 60% Anti ageing Pigmenta...</td>\n",
              "      <td>PROFESSIONAL GRADE Face Peel: this peel stimul...</td>\n",
              "      <td>Lee Posh</td>\n",
              "      <td>NaN</td>\n",
              "      <td>2000</td>\n",
              "      <td>799</td>\n",
              "      <td>60.05%</td>\n",
              "      <td>NaN</td>\n",
              "      <td>YES</td>\n",
              "    </tr>\n",
              "    <tr>\n",
              "      <th>1</th>\n",
              "      <td>1657cc30c438affede6a5060d6847363</td>\n",
              "      <td>2019-10-31 15:46:54 +0000</td>\n",
              "      <td>Skin Care</td>\n",
              "      <td>Branded SLB Works New 1.5mm Titanium 1200 nee...</td>\n",
              "      <td>Item name: 1.5mm titanium 1200 needles microne...</td>\n",
              "      <td>SLB Works</td>\n",
              "      <td>NaN</td>\n",
              "      <td>2040</td>\n",
              "      <td>2040</td>\n",
              "      <td>0%</td>\n",
              "      <td>NaN</td>\n",
              "      <td>YES</td>\n",
              "    </tr>\n",
              "    <tr>\n",
              "      <th>2</th>\n",
              "      <td>41654633cce38c8650690f6dbac01fd3</td>\n",
              "      <td>2019-10-30 09:53:23 +0000</td>\n",
              "      <td>Skin Care</td>\n",
              "      <td>Generic 1 Pc brand snail eye cream remove dar...</td>\n",
              "      <td>Use: eye, item type: cream, net wt: 20g, gzzz:...</td>\n",
              "      <td>Generic</td>\n",
              "      <td>NaN</td>\n",
              "      <td>1824</td>\n",
              "      <td>1042</td>\n",
              "      <td>42.87%</td>\n",
              "      <td>NaN</td>\n",
              "      <td>YES</td>\n",
              "    </tr>\n",
              "    <tr>\n",
              "      <th>3</th>\n",
              "      <td>08b1bd85c3efc2d7aa556fd79b073382</td>\n",
              "      <td>2019-10-29 16:16:52 +0000</td>\n",
              "      <td>Skin Care</td>\n",
              "      <td>Generic Anti Snoring Snore Stopper Sleep Apne...</td>\n",
              "      <td>Prevent the tongue from dropping backward or b...</td>\n",
              "      <td>Generic</td>\n",
              "      <td>NaN</td>\n",
              "      <td>2185</td>\n",
              "      <td>1399</td>\n",
              "      <td>35.97%</td>\n",
              "      <td>NaN</td>\n",
              "      <td>YES</td>\n",
              "    </tr>\n",
              "    <tr>\n",
              "      <th>4</th>\n",
              "      <td>3ac3f213732512d1d11bb73ab3b1900f</td>\n",
              "      <td>2019-10-31 09:32:06 +0000</td>\n",
              "      <td>Grocery &amp; Gourmet Foods</td>\n",
              "      <td>Harveys Crunchy &amp; Creame Gourmet Delicacies C...</td>\n",
              "      <td>Harvey's wafer Cream Wafer 110g. Made in India</td>\n",
              "      <td>Harveys</td>\n",
              "      <td>NaN</td>\n",
              "      <td>594</td>\n",
              "      <td>570</td>\n",
              "      <td>4.04%</td>\n",
              "      <td>NaN</td>\n",
              "      <td>YES</td>\n",
              "    </tr>\n",
              "  </tbody>\n",
              "</table>\n",
              "</div>"
            ],
            "text/plain": [
              "                            Uniq Id  ... Stock Availibility\n",
              "0  eb49cc038190f6f03c272f79fbbce894  ...                YES\n",
              "1  1657cc30c438affede6a5060d6847363  ...                YES\n",
              "2  41654633cce38c8650690f6dbac01fd3  ...                YES\n",
              "3  08b1bd85c3efc2d7aa556fd79b073382  ...                YES\n",
              "4  3ac3f213732512d1d11bb73ab3b1900f  ...                YES\n",
              "\n",
              "[5 rows x 12 columns]"
            ]
          },
          "metadata": {
            "tags": []
          },
          "execution_count": 6
        }
      ]
    },
    {
      "cell_type": "markdown",
      "metadata": {
        "id": "Hq08JLpUmQT-"
      },
      "source": [
        "###Rows,Columns"
      ]
    },
    {
      "cell_type": "code",
      "metadata": {
        "id": "tTbIYorHVrJK",
        "outputId": "0b0d3c87-313a-43dd-8054-e235581cfb40",
        "colab": {
          "base_uri": "https://localhost:8080/",
          "height": 34
        }
      },
      "source": [
        "amzn.shape"
      ],
      "execution_count": 7,
      "outputs": [
        {
          "output_type": "execute_result",
          "data": {
            "text/plain": [
              "(30000, 12)"
            ]
          },
          "metadata": {
            "tags": []
          },
          "execution_count": 7
        }
      ]
    },
    {
      "cell_type": "markdown",
      "metadata": {
        "id": "WP4SjbqkmDd-"
      },
      "source": [
        "###No. of NULL/Na values in each field"
      ]
    },
    {
      "cell_type": "code",
      "metadata": {
        "id": "iK4dhPSpNEcn",
        "outputId": "578ac9a8-70a5-487b-89f1-30a759175929",
        "colab": {
          "base_uri": "https://localhost:8080/",
          "height": 235
        }
      },
      "source": [
        "amzn.isna().sum()"
      ],
      "execution_count": 8,
      "outputs": [
        {
          "output_type": "execute_result",
          "data": {
            "text/plain": [
              "Uniq Id                      0\n",
              "Crawl Timestamp              0\n",
              "Category                     0\n",
              "Product Title                0\n",
              "Product Description       1990\n",
              "Brand                       87\n",
              "Pack Size Or Quantity    19776\n",
              "Mrp                        699\n",
              "Price                      600\n",
              "Offers                     466\n",
              "Combo Offers             29963\n",
              "Stock Availibility           0\n",
              "dtype: int64"
            ]
          },
          "metadata": {
            "tags": []
          },
          "execution_count": 8
        }
      ]
    },
    {
      "cell_type": "code",
      "metadata": {
        "id": "6PVvlb5xkMZk",
        "outputId": "19b1c791-a50f-4368-fd86-5597ad466f50",
        "colab": {
          "base_uri": "https://localhost:8080/",
          "height": 218
        }
      },
      "source": [
        "amzn['Brand'].value_counts()"
      ],
      "execution_count": 9,
      "outputs": [
        {
          "output_type": "execute_result",
          "data": {
            "text/plain": [
              "CHOCOCRAFT              1465\n",
              "Generic                 1284\n",
              "Chocholik                698\n",
              "World Beauty             527\n",
              "BOGATCHI                 420\n",
              "                        ... \n",
              "Baoishi                    1\n",
              "Kicking Horse Coffee       1\n",
              "Miracle Stone              1\n",
              "fyc professional           1\n",
              "Brocato                    1\n",
              "Name: Brand, Length: 8454, dtype: int64"
            ]
          },
          "metadata": {
            "tags": []
          },
          "execution_count": 9
        }
      ]
    },
    {
      "cell_type": "code",
      "metadata": {
        "id": "mJ3v8Q6blFW2",
        "outputId": "7510786c-e284-446e-9368-1daed9ebbcea",
        "colab": {
          "base_uri": "https://localhost:8080/",
          "height": 101
        }
      },
      "source": [
        "amzn['Mrp'].describe()"
      ],
      "execution_count": 10,
      "outputs": [
        {
          "output_type": "execute_result",
          "data": {
            "text/plain": [
              "count     29301\n",
              "unique     6371\n",
              "top         999\n",
              "freq        808\n",
              "Name: Mrp, dtype: object"
            ]
          },
          "metadata": {
            "tags": []
          },
          "execution_count": 10
        }
      ]
    },
    {
      "cell_type": "code",
      "metadata": {
        "id": "MxpYPvBlljpz",
        "outputId": "ec2afba5-43c8-4afa-e4bf-9f1fb752513b",
        "colab": {
          "base_uri": "https://localhost:8080/",
          "height": 84
        }
      },
      "source": [
        "amzn.columns"
      ],
      "execution_count": 11,
      "outputs": [
        {
          "output_type": "execute_result",
          "data": {
            "text/plain": [
              "Index(['Uniq Id', 'Crawl Timestamp', 'Category', 'Product Title',\n",
              "       'Product Description', 'Brand', 'Pack Size Or Quantity', 'Mrp', 'Price',\n",
              "       'Offers', 'Combo Offers', 'Stock Availibility'],\n",
              "      dtype='object')"
            ]
          },
          "metadata": {
            "tags": []
          },
          "execution_count": 11
        }
      ]
    },
    {
      "cell_type": "code",
      "metadata": {
        "id": "x5sfhoOLth4w",
        "outputId": "20b96605-6f5a-4b8b-a335-bc42389666d7",
        "colab": {
          "base_uri": "https://localhost:8080/",
          "height": 238
        }
      },
      "source": [
        "amzn['Product Title'].value_counts()"
      ],
      "execution_count": 12,
      "outputs": [
        {
          "output_type": "execute_result",
          "data": {
            "text/plain": [
              " Xplus Bath Loofah(Pack of 3)                                                                                                                          39\n",
              " Bogatchi Chocolate Gift Box, Happy Diwali Chocolate, Diwali Chocolate Gifts, Diwali Chocolate Gift, Diwali Chocolate Bar, Diwali Gifts, 15 Pieces     16\n",
              " Xplus Bath Loofah                                                                                                                                     11\n",
              " Midiron Happy Raksha Bandhan Return Gift for Sister with Printed Ceramic Mug and 2 Chocolate Bar                                                       8\n",
              " Zyrex Forever Long Cream-100 Gram A Natural Magical Cream With Imported Korean Herbs                                                                   6\n",
              "                                                                                                                                                       ..\n",
              " QTICA Natural Nail Growth Stimulator - .5oz                                                                                                            1\n",
              " Himalaya Herbals Aloe and Cucumber Refreshing Body Lotion, 400ml and Himalaya Gentle Daily Care Protein Shampoo, 700ml                                 1\n",
              " Nattfru Wheat Grass Powder 100% Natural, Pure & Freeze Dried Powder - 14 gm (2 gm X 7 Sachet)                                                          1\n",
              " Creamy Coconut Cutie BAR SOAP Safflower Coconut Soy by Filthy Farmgirl                                                                                 1\n",
              " Ancient Flower - Natural Vitamin C and Rosehip - Night Glow Serum & Cuticle and Nail Oil (Nail tonic) (20 ml)                                          1\n",
              "Name: Product Title, Length: 29630, dtype: int64"
            ]
          },
          "metadata": {
            "tags": []
          },
          "execution_count": 12
        }
      ]
    },
    {
      "cell_type": "markdown",
      "metadata": {
        "id": "hvqqRVSTOl_N"
      },
      "source": [
        "  #### HEATMAP FOR NULL VALUES"
      ]
    },
    {
      "cell_type": "code",
      "metadata": {
        "id": "pFLWjmKkOXJk",
        "outputId": "87c0e31c-159b-4124-f723-295d6155c978",
        "colab": {
          "base_uri": "https://localhost:8080/",
          "height": 384
        }
      },
      "source": [
        "sns.heatmap(amzn.isna())"
      ],
      "execution_count": 13,
      "outputs": [
        {
          "output_type": "execute_result",
          "data": {
            "text/plain": [
              "<matplotlib.axes._subplots.AxesSubplot at 0x7f248ebf3128>"
            ]
          },
          "metadata": {
            "tags": []
          },
          "execution_count": 13
        },
        {
          "output_type": "display_data",
          "data": {
            "image/png": "[encoded data removed]",
            "text/plain": [
              "<Figure size 432x288 with 2 Axes>"
            ]
          },
          "metadata": {
            "tags": [],
            "needs_background": "light"
          }
        }
      ]
    },
    {
      "cell_type": "markdown",
      "metadata": {
        "id": "fDJQlkO2v4c-"
      },
      "source": [
        "## DATA CLEANING"
      ]
    },
    {
      "cell_type": "markdown",
      "metadata": {
        "id": "oYbxx9tFv8Vf"
      },
      "source": [
        "## brand column fix"
      ]
    },
    {
      "cell_type": "code",
      "metadata": {
        "id": "GF8vOWPLuqvr",
        "outputId": "821f7aea-223f-4300-e075-20054bc88376",
        "colab": {
          "base_uri": "https://localhost:8080/",
          "height": 34
        }
      },
      "source": [
        "#there are empty spaces in brand column which is as good as NaN value\n",
        "amzn['Brand'].replace(' ',np.NaN,inplace=True)\n",
        "print(\"EMPTY VALUES IN BRAND COLUMN: \",amzn['Brand'].isna().sum())"
      ],
      "execution_count": 14,
      "outputs": [
        {
          "output_type": "stream",
          "text": [
            "EMPTY VALUES IN BRAND COLUMN:  184\n"
          ],
          "name": "stdout"
        }
      ]
    },
    {
      "cell_type": "markdown",
      "metadata": {
        "id": "JwzrNtDVwnOc"
      },
      "source": [
        "since there is only 184 empty  in the brand column , we can impute these values instead of removing it."
      ]
    },
    {
      "cell_type": "code",
      "metadata": {
        "id": "yg1ijBT7QMXB"
      },
      "source": [
        "amzn['Brand'].replace(np.NaN,-1,inplace=True)\n",
        "for i in range(len(amzn['Uniq Id'])):\n",
        "    if(amzn['Brand'][i] == -1):\n",
        "        brand = amzn['Product Title'][i].strip().split(' ')\n",
        "        amzn['Brand'][i] = \" \".join(brand[0:2])\n",
        "        #print(brand[0:2])"
      ],
      "execution_count": 15,
      "outputs": []
    },
    {
      "cell_type": "code",
      "metadata": {
        "id": "nhpuGnUTxC9Z",
        "outputId": "7eb55918-7bca-4404-bef1-f3b5c77632d2",
        "colab": {
          "base_uri": "https://localhost:8080/",
          "height": 235
        }
      },
      "source": [
        "amzn.isna().sum()"
      ],
      "execution_count": 16,
      "outputs": [
        {
          "output_type": "execute_result",
          "data": {
            "text/plain": [
              "Uniq Id                      0\n",
              "Crawl Timestamp              0\n",
              "Category                     0\n",
              "Product Title                0\n",
              "Product Description       1990\n",
              "Brand                        0\n",
              "Pack Size Or Quantity    19776\n",
              "Mrp                        699\n",
              "Price                      600\n",
              "Offers                     466\n",
              "Combo Offers             29963\n",
              "Stock Availibility           0\n",
              "dtype: int64"
            ]
          },
          "metadata": {
            "tags": []
          },
          "execution_count": 16
        }
      ]
    },
    {
      "cell_type": "markdown",
      "metadata": {
        "id": "O7psKQoiQOOX"
      },
      "source": [
        "### Price Coulumn Fix"
      ]
    },
    {
      "cell_type": "code",
      "metadata": {
        "id": "62F3psoB6C3E",
        "outputId": "211f54c1-a89b-4c23-f880-b91021890a91",
        "colab": {
          "base_uri": "https://localhost:8080/",
          "height": 34
        }
      },
      "source": [
        "amzn['Price'].replace('NAN',np.NaN,inplace=True)\n",
        "print(\"EMPTY VALUES IN PRICE COLUMN: \",amzn['Price'].isna().sum())"
      ],
      "execution_count": 17,
      "outputs": [
        {
          "output_type": "stream",
          "text": [
            "EMPTY VALUES IN PRICE COLUMN:  600\n"
          ],
          "name": "stdout"
        }
      ]
    },
    {
      "cell_type": "code",
      "metadata": {
        "id": "s_LxZUUeSN04"
      },
      "source": [
        "for i in range(len(amzn['Uniq Id'])):\n",
        "  try:\n",
        "    amzn['Price'][i] == float(amzn['Price'][i])\n",
        "  except:\n",
        "    price = float(amzn['Price'][i][1:])\n",
        "    amzn['Price'][i] = price"
      ],
      "execution_count": 18,
      "outputs": []
    },
    {
      "cell_type": "code",
      "metadata": {
        "id": "zR5OEKEPE_17",
        "outputId": "c5ed5103-9a62-4c39-9101-c57f747f0e01",
        "colab": {
          "base_uri": "https://localhost:8080/",
          "height": 134
        }
      },
      "source": [
        "amzn['Category'].value_counts()"
      ],
      "execution_count": 19,
      "outputs": [
        {
          "output_type": "execute_result",
          "data": {
            "text/plain": [
              "Skin Care                  15033\n",
              "Grocery & Gourmet Foods     8064\n",
              "Hair Care                   2459\n",
              "Bath & Shower               2140\n",
              "Fragrance                   2107\n",
              "Detergents & Dishwash        197\n",
              "Name: Category, dtype: int64"
            ]
          },
          "metadata": {
            "tags": []
          },
          "execution_count": 19
        }
      ]
    },
    {
      "cell_type": "code",
      "metadata": {
        "id": "4y6kb02o-D2y"
      },
      "source": [
        "amzn['Price'] = amzn['Price'].astype('float')\n",
        "skin_care = amzn[amzn['Category'] == 'Skin Care']\n",
        "grocery =  amzn[amzn['Category'] == 'Grocery & Gourmet Foods']\n",
        "bath = amzn[amzn['Category'] == 'Bath & Shower']\n",
        "fragrance = amzn[amzn['Category'] == 'Fragrance']\n",
        "Hair = amzn[amzn['Category'] == 'Hair Care']\n",
        "Dish =amzn[amzn['Category'] == 'Skin Care']\n",
        "#np.mean([amzn['Price'][i]=='Hair Care' for i in range(len(amzn['Uniq Id']))])"
      ],
      "execution_count": 20,
      "outputs": []
    },
    {
      "cell_type": "code",
      "metadata": {
        "id": "1SMWe_IN2Bx4",
        "outputId": "cbac3695-70e9-427e-b922-8990fb1743a0",
        "colab": {
          "base_uri": "https://localhost:8080/",
          "height": 514
        }
      },
      "source": [
        "plt.figure(figsize = (15,8))\n",
        "sns.boxplot(y = amzn['Price'],  x = amzn['Category'])"
      ],
      "execution_count": 21,
      "outputs": [
        {
          "output_type": "execute_result",
          "data": {
            "text/plain": [
              "<matplotlib.axes._subplots.AxesSubplot at 0x7f248ef486d8>"
            ]
          },
          "metadata": {
            "tags": []
          },
          "execution_count": 21
        },
        {
          "output_type": "display_data",
          "data": {
            "image/png": "[encoded data removed]",
            "text/plain": [
              "<Figure size 1080x576 with 1 Axes>"
            ]
          },
          "metadata": {
            "tags": [],
            "needs_background": "light"
          }
        }
      ]
    },
    {
      "cell_type": "code",
      "metadata": {
        "id": "TW0bTjoHTQM9",
        "outputId": "db813938-094b-4584-8849-53053290dce4",
        "colab": {
          "base_uri": "https://localhost:8080/",
          "height": 202
        }
      },
      "source": [
        "print(\"THE MEDIAN PRICE FOR THE CATEGORY SKIN CARE IS : \",np.nanmedian(skin_care['Price']))\n",
        "skin_care['Price'].fillna(np.nanmedian(skin_care['Price']),inplace=True)\n",
        "print(\"THE MEDIAN PRICE FOR THE CATEGORY GROCERY IS : \",np.nanmedian(grocery['Price']))\n",
        "grocery['Price'].fillna(np.nanmedian(grocery['Price']),inplace=True)\n",
        "print(\"THE MEDIAN PRICE FOR THE CATEGORY BATH & SHOWER IS : \",np.nanmedian(bath['Price']))\n",
        "bath['Price'].fillna(np.nanmedian(bath['Price']),inplace=True)\n",
        "print(\"THE MEDIAN PRICE FOR THE CATEGORY FRAGRANCE IS : \",np.nanmedian(fragrance['Price']))\n",
        "fragrance['Price'].fillna(np.nanmedian(fragrance['Price']),inplace=True)\n",
        "print(\"THE MEDIAN PRICE FOR THE CATEGORY HAIR CARE IS : \",np.nanmedian(Hair['Price']))\n",
        "Hair['Price'].fillna(np.nanmedian(Hair['Price']),inplace=True)\n",
        "print(\"THE MEDIAN PRICE FOR THE CATEGORY DETERGENTS & DISHWASH IS : \",np.nanmedian(Dish['Price']))\n",
        "Dish['Price'].fillna(np.nanmedian(Dish['Price']),inplace=True)"
      ],
      "execution_count": 22,
      "outputs": [
        {
          "output_type": "stream",
          "text": [
            "THE MEDIAN PRICE FOR THE CATEGORY SKIN CARE IS :  1390.0\n",
            "THE MEDIAN PRICE FOR THE CATEGORY GROCERY IS :  630.0\n",
            "THE MEDIAN PRICE FOR THE CATEGORY BATH & SHOWER IS :  1029.0\n",
            "THE MEDIAN PRICE FOR THE CATEGORY FRAGRANCE IS :  1056.5\n",
            "THE MEDIAN PRICE FOR THE CATEGORY HAIR CARE IS :  1047.5\n",
            "THE MEDIAN PRICE FOR THE CATEGORY DETERGENTS & DISHWASH IS :  1390.0\n"
          ],
          "name": "stdout"
        },
        {
          "output_type": "stream",
          "text": [
            "/usr/local/lib/python3.6/dist-packages/pandas/core/series.py:4523: SettingWithCopyWarning: \n",
            "A value is trying to be set on a copy of a slice from a DataFrame\n",
            "\n",
            "See the caveats in the documentation: https://pandas.pydata.org/pandas-docs/stable/user_guide/indexing.html#returning-a-view-versus-a-copy\n",
            "  downcast=downcast,\n"
          ],
          "name": "stderr"
        }
      ]
    },
    {
      "cell_type": "code",
      "metadata": {
        "id": "Dz4jNGzx6oiq",
        "outputId": "64884a27-86a3-48b1-d29e-8f9dad4882d4",
        "colab": {
          "base_uri": "https://localhost:8080/",
          "height": 235
        }
      },
      "source": [
        "amzn = pd.concat([skin_care,grocery,bath,fragrance,Hair,Dish])\n",
        "amzn.isna().sum()"
      ],
      "execution_count": 27,
      "outputs": [
        {
          "output_type": "execute_result",
          "data": {
            "text/plain": [
              "Uniq Id                      0\n",
              "Crawl Timestamp              0\n",
              "Category                     0\n",
              "Product Title                0\n",
              "Product Description       2858\n",
              "Brand                        0\n",
              "Pack Size Or Quantity    31292\n",
              "Mrp                       1239\n",
              "Price                        0\n",
              "Offers                     838\n",
              "Combo Offers             44783\n",
              "Stock Availibility           0\n",
              "dtype: int64"
            ]
          },
          "metadata": {
            "tags": []
          },
          "execution_count": 27
        }
      ]
    },
    {
      "cell_type": "code",
      "metadata": {
        "id": "0ySduRaVTkYq"
      },
      "source": [
        ""
      ],
      "execution_count": null,
      "outputs": []
    }
  ]
}