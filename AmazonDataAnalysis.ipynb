{
  "nbformat": 4,
  "nbformat_minor": 0,
  "metadata": {
    "colab": {
      "name": "AmazonDataAnalysis.ipynb",
      "provenance": [],
      "collapsed_sections": [],
      "include_colab_link": true
    },
    "kernelspec": {
      "name": "python3",
      "display_name": "Python 3"
    }
  },
  "cells": [
    {
      "cell_type": "markdown",
      "metadata": {
        "id": "view-in-github",
        "colab_type": "text"
      },
      "source": [
        "<a href=\"https://colab.research.google.com/github/Abhishek4848/Amazon-product-listing-Analysis/blob/master/AmazonDataAnalysis.ipynb\" target=\"_parent\"><img src=\"https://colab.research.google.com/assets/colab-badge.svg\" alt=\"Open In Colab\"/></a>"
      ]
    },
    {
      "cell_type": "markdown",
      "metadata": {
        "id": "RC_BCAx97tCu"
      },
      "source": [
        "## Importing modules\n"
      ]
    },
    {
      "cell_type": "code",
      "metadata": {
        "id": "eVjqWxbX7w6K"
      },
      "source": [
        "import pandas as pd\n",
        "import numpy as np\n",
        "import matplotlib.pyplot as plt\n",
        "import seaborn"
      ],
      "execution_count": 68,
      "outputs": []
    },
    {
      "cell_type": "code",
      "metadata": {
        "id": "-cpCL2eS76ZC"
      },
      "source": [
        "url = 'https://raw.githubusercontent.com/Abhishek4848/Housing-price-Analysis/master/AmazonData.csv'\n",
        "amzn = pd.read_csv(url, error_bad_lines=False)"
      ],
      "execution_count": 75,
      "outputs": []
    },
    {
      "cell_type": "code",
      "metadata": {
        "id": "vxn7GBIlAR3U",
        "outputId": "74069a1e-fef8-4752-be6f-fed929b9d4ea",
        "colab": {
          "base_uri": "https://localhost:8080/",
          "height": 380
        }
      },
      "source": [
        "amzn.head()"
      ],
      "execution_count": 76,
      "outputs": [
        {
          "output_type": "execute_result",
          "data": {
            "text/html": [
              "<div>\n",
              "<style scoped>\n",
              "    .dataframe tbody tr th:only-of-type {\n",
              "        vertical-align: middle;\n",
              "    }\n",
              "\n",
              "    .dataframe tbody tr th {\n",
              "        vertical-align: top;\n",
              "    }\n",
              "\n",
              "    .dataframe thead th {\n",
              "        text-align: right;\n",
              "    }\n",
              "</style>\n",
              "<table border=\"1\" class=\"dataframe\">\n",
              "  <thead>\n",
              "    <tr style=\"text-align: right;\">\n",
              "      <th></th>\n",
              "      <th>Uniq Id</th>\n",
              "      <th>Crawl Timestamp</th>\n",
              "      <th>Category</th>\n",
              "      <th>Product Title</th>\n",
              "      <th>Product Description</th>\n",
              "      <th>Brand</th>\n",
              "      <th>Pack Size Or Quantity</th>\n",
              "      <th>Mrp</th>\n",
              "      <th>Price</th>\n",
              "      <th>Offers</th>\n",
              "      <th>Combo Offers</th>\n",
              "      <th>Stock Availibility</th>\n",
              "    </tr>\n",
              "  </thead>\n",
              "  <tbody>\n",
              "    <tr>\n",
              "      <th>0</th>\n",
              "      <td>eb49cc038190f6f03c272f79fbbce894</td>\n",
              "      <td>2019-10-30 11:38:11 +0000</td>\n",
              "      <td>Skin Care</td>\n",
              "      <td>Lee posh Lactic Acid 60% Anti ageing Pigmenta...</td>\n",
              "      <td>PROFESSIONAL GRADE Face Peel: this peel stimul...</td>\n",
              "      <td>Lee Posh</td>\n",
              "      <td>NaN</td>\n",
              "      <td>2000</td>\n",
              "      <td>799</td>\n",
              "      <td>60.05%</td>\n",
              "      <td>NaN</td>\n",
              "      <td>YES</td>\n",
              "    </tr>\n",
              "    <tr>\n",
              "      <th>1</th>\n",
              "      <td>1657cc30c438affede6a5060d6847363</td>\n",
              "      <td>2019-10-31 15:46:54 +0000</td>\n",
              "      <td>Skin Care</td>\n",
              "      <td>Branded SLB Works New 1.5mm Titanium 1200 nee...</td>\n",
              "      <td>Item name: 1.5mm titanium 1200 needles microne...</td>\n",
              "      <td>SLB Works</td>\n",
              "      <td>NaN</td>\n",
              "      <td>2040</td>\n",
              "      <td>2040</td>\n",
              "      <td>0%</td>\n",
              "      <td>NaN</td>\n",
              "      <td>YES</td>\n",
              "    </tr>\n",
              "    <tr>\n",
              "      <th>2</th>\n",
              "      <td>41654633cce38c8650690f6dbac01fd3</td>\n",
              "      <td>2019-10-30 09:53:23 +0000</td>\n",
              "      <td>Skin Care</td>\n",
              "      <td>Generic 1 Pc brand snail eye cream remove dar...</td>\n",
              "      <td>Use: eye, item type: cream, net wt: 20g, gzzz:...</td>\n",
              "      <td>Generic</td>\n",
              "      <td>NaN</td>\n",
              "      <td>1824</td>\n",
              "      <td>1042</td>\n",
              "      <td>42.87%</td>\n",
              "      <td>NaN</td>\n",
              "      <td>YES</td>\n",
              "    </tr>\n",
              "    <tr>\n",
              "      <th>3</th>\n",
              "      <td>08b1bd85c3efc2d7aa556fd79b073382</td>\n",
              "      <td>2019-10-29 16:16:52 +0000</td>\n",
              "      <td>Skin Care</td>\n",
              "      <td>Generic Anti Snoring Snore Stopper Sleep Apne...</td>\n",
              "      <td>Prevent the tongue from dropping backward or b...</td>\n",
              "      <td>Generic</td>\n",
              "      <td>NaN</td>\n",
              "      <td>2185</td>\n",
              "      <td>1399</td>\n",
              "      <td>35.97%</td>\n",
              "      <td>NaN</td>\n",
              "      <td>YES</td>\n",
              "    </tr>\n",
              "    <tr>\n",
              "      <th>4</th>\n",
              "      <td>3ac3f213732512d1d11bb73ab3b1900f</td>\n",
              "      <td>2019-10-31 09:32:06 +0000</td>\n",
              "      <td>Grocery &amp; Gourmet Foods</td>\n",
              "      <td>Harveys Crunchy &amp; Creame Gourmet Delicacies C...</td>\n",
              "      <td>Harvey's wafer Cream Wafer 110g. Made in India</td>\n",
              "      <td>Harveys</td>\n",
              "      <td>NaN</td>\n",
              "      <td>594</td>\n",
              "      <td>570</td>\n",
              "      <td>4.04%</td>\n",
              "      <td>NaN</td>\n",
              "      <td>YES</td>\n",
              "    </tr>\n",
              "  </tbody>\n",
              "</table>\n",
              "</div>"
            ],
            "text/plain": [
              "                            Uniq Id  ... Stock Availibility\n",
              "0  eb49cc038190f6f03c272f79fbbce894  ...                YES\n",
              "1  1657cc30c438affede6a5060d6847363  ...                YES\n",
              "2  41654633cce38c8650690f6dbac01fd3  ...                YES\n",
              "3  08b1bd85c3efc2d7aa556fd79b073382  ...                YES\n",
              "4  3ac3f213732512d1d11bb73ab3b1900f  ...                YES\n",
              "\n",
              "[5 rows x 12 columns]"
            ]
          },
          "metadata": {
            "tags": []
          },
          "execution_count": 76
        }
      ]
    },
    {
      "cell_type": "markdown",
      "metadata": {
        "id": "Hq08JLpUmQT-"
      },
      "source": [
        "###Rows,Columns"
      ]
    },
    {
      "cell_type": "code",
      "metadata": {
        "id": "tTbIYorHVrJK",
        "outputId": "77868548-002a-4f29-a7a4-b27e0f2f1acc",
        "colab": {
          "base_uri": "https://localhost:8080/",
          "height": 34
        }
      },
      "source": [
        "amzn.shape"
      ],
      "execution_count": 77,
      "outputs": [
        {
          "output_type": "execute_result",
          "data": {
            "text/plain": [
              "(30000, 12)"
            ]
          },
          "metadata": {
            "tags": []
          },
          "execution_count": 77
        }
      ]
    },
    {
      "cell_type": "markdown",
      "metadata": {
        "id": "WP4SjbqkmDd-"
      },
      "source": [
        "###No. of NULL/Na values in each field"
      ]
    },
    {
      "cell_type": "code",
      "metadata": {
        "id": "iK4dhPSpNEcn",
        "outputId": "9e62cebc-cb2d-48f6-c21a-df824ff6a51e",
        "colab": {
          "base_uri": "https://localhost:8080/",
          "height": 246
        }
      },
      "source": [
        "amzn.isna().sum()"
      ],
      "execution_count": 80,
      "outputs": [
        {
          "output_type": "execute_result",
          "data": {
            "text/plain": [
              "Uniq Id                      0\n",
              "Crawl Timestamp              0\n",
              "Category                     0\n",
              "Product Title                0\n",
              "Product Description       1990\n",
              "Brand                       87\n",
              "Pack Size Or Quantity    19776\n",
              "Mrp                        699\n",
              "Price                      600\n",
              "Offers                     466\n",
              "Combo Offers             29963\n",
              "Stock Availibility           0\n",
              "dtype: int64"
            ]
          },
          "metadata": {
            "tags": []
          },
          "execution_count": 80
        }
      ]
    },
    {
      "cell_type": "code",
      "metadata": {
        "id": "6PVvlb5xkMZk",
        "outputId": "3ef34996-8439-4600-9aff-7ac04dca0165",
        "colab": {
          "base_uri": "https://localhost:8080/",
          "height": 228
        }
      },
      "source": [
        "amzn['Brand'].value_counts()"
      ],
      "execution_count": 81,
      "outputs": [
        {
          "output_type": "execute_result",
          "data": {
            "text/plain": [
              "CHOCOCRAFT      1465\n",
              "Generic         1284\n",
              "Chocholik        698\n",
              "World Beauty     527\n",
              "BOGATCHI         420\n",
              "                ... \n",
              "Aadhaar            1\n",
              "Spa Relaxus        1\n",
              "REMAN              1\n",
              "Jai                1\n",
              "Alpha-H            1\n",
              "Name: Brand, Length: 8454, dtype: int64"
            ]
          },
          "metadata": {
            "tags": []
          },
          "execution_count": 81
        }
      ]
    },
    {
      "cell_type": "code",
      "metadata": {
        "id": "mJ3v8Q6blFW2",
        "outputId": "4549c495-55c1-4b56-d176-2089e65ce183",
        "colab": {
          "base_uri": "https://localhost:8080/",
          "height": 105
        }
      },
      "source": [
        "amzn['Price'].describe()"
      ],
      "execution_count": 83,
      "outputs": [
        {
          "output_type": "execute_result",
          "data": {
            "text/plain": [
              "count     29400\n",
              "unique     6296\n",
              "top         695\n",
              "freq        389\n",
              "Name: Price, dtype: object"
            ]
          },
          "metadata": {
            "tags": []
          },
          "execution_count": 83
        }
      ]
    },
    {
      "cell_type": "code",
      "metadata": {
        "id": "MxpYPvBlljpz"
      },
      "source": [
        ""
      ],
      "execution_count": null,
      "outputs": []
    }
  ]
}