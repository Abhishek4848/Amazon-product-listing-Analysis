{
  "nbformat": 4,
  "nbformat_minor": 0,
  "metadata": {
    "colab": {
      "name": "AmazonDataAnalysis.ipynb",
      "provenance": [],
      "collapsed_sections": [],
      "include_colab_link": true
    },
    "kernelspec": {
      "name": "python3",
      "display_name": "Python 3"
    }
  },
  "cells": [
    {
      "cell_type": "markdown",
      "metadata": {
        "id": "view-in-github",
        "colab_type": "text"
      },
      "source": [
        "<a href=\"https://colab.research.google.com/github/Abhishek4848/Amazon-product-listing-Analysis/blob/master/AmazonDataAnalysis.ipynb\" target=\"_parent\"><img src=\"https://colab.research.google.com/assets/colab-badge.svg\" alt=\"Open In Colab\"/></a>"
      ]
    },
    {
      "cell_type": "markdown",
      "metadata": {
        "id": "RC_BCAx97tCu"
      },
      "source": [
        "## Importing modules\n"
      ]
    },
    {
      "cell_type": "code",
      "metadata": {
        "id": "eVjqWxbX7w6K"
      },
      "source": [
        "import pandas as pd\n",
        "import numpy as np\n",
        "import matplotlib.pyplot as plt\n",
        "import seaborn"
      ],
      "execution_count": null,
      "outputs": []
    },
    {
      "cell_type": "code",
      "metadata": {
        "id": "-cpCL2eS76ZC"
      },
      "source": [
        "url = 'https://raw.githubusercontent.com/Abhishek4848/Housing-price-Analysis/master/AmazonData.csv'\n",
        "amzn = pd.read_csv(url, error_bad_lines=False)"
      ],
      "execution_count": null,
      "outputs": []
    },
    {
      "cell_type": "code",
      "metadata": {
        "id": "vxn7GBIlAR3U",
        "outputId": "b1863116-8ba1-44d8-c975-21c107379da4",
        "colab": {
          "base_uri": "https://localhost:8080/",
          "height": 669
        }
      },
      "source": [
        "amzn.head()"
      ],
      "execution_count": null,
      "outputs": [
        {
          "output_type": "execute_result",
          "data": {
            "text/html": [
              "<div>\n",
              "<style scoped>\n",
              "    .dataframe tbody tr th:only-of-type {\n",
              "        vertical-align: middle;\n",
              "    }\n",
              "\n",
              "    .dataframe tbody tr th {\n",
              "        vertical-align: top;\n",
              "    }\n",
              "\n",
              "    .dataframe thead th {\n",
              "        text-align: right;\n",
              "    }\n",
              "</style>\n",
              "<table border=\"1\" class=\"dataframe\">\n",
              "  <thead>\n",
              "    <tr style=\"text-align: right;\">\n",
              "      <th></th>\n",
              "      <th>Uniq Id</th>\n",
              "      <th>Crawl Timestamp</th>\n",
              "      <th>Category</th>\n",
              "      <th>Product Title</th>\n",
              "      <th>Product Description</th>\n",
              "      <th>Brand</th>\n",
              "      <th>Pack Size Or Quantity</th>\n",
              "      <th>Mrp</th>\n",
              "      <th>Price</th>\n",
              "      <th>Offers</th>\n",
              "      <th>Combo Offers</th>\n",
              "      <th>Stock Availibility</th>\n",
              "    </tr>\n",
              "  </thead>\n",
              "  <tbody>\n",
              "    <tr>\n",
              "      <th>0</th>\n",
              "      <td>eb49cc038190f6f03c272f79fbbce894</td>\n",
              "      <td>2019-10-30 11:38:11 +0000</td>\n",
              "      <td>Skin Care</td>\n",
              "      <td>Lee posh Lactic Acid 60% Anti ageing Pigmenta...</td>\n",
              "      <td>PROFESSIONAL GRADE Face Peel: this peel stimul...</td>\n",
              "      <td>Lee Posh</td>\n",
              "      <td>NaN</td>\n",
              "      <td>2000</td>\n",
              "      <td>799</td>\n",
              "      <td>60.05%</td>\n",
              "      <td>NaN</td>\n",
              "      <td>YES</td>\n",
              "    </tr>\n",
              "    <tr>\n",
              "      <th>1</th>\n",
              "      <td>1657cc30c438affede6a5060d6847363</td>\n",
              "      <td>2019-10-31 15:46:54 +0000</td>\n",
              "      <td>Skin Care</td>\n",
              "      <td>Branded SLB Works New 1.5mm Titanium 1200 nee...</td>\n",
              "      <td>Item name: 1.5mm titanium 1200 needles microne...</td>\n",
              "      <td>SLB Works</td>\n",
              "      <td>NaN</td>\n",
              "      <td>2040</td>\n",
              "      <td>2040</td>\n",
              "      <td>0%</td>\n",
              "      <td>NaN</td>\n",
              "      <td>YES</td>\n",
              "    </tr>\n",
              "    <tr>\n",
              "      <th>2</th>\n",
              "      <td>41654633cce38c8650690f6dbac01fd3</td>\n",
              "      <td>2019-10-30 09:53:23 +0000</td>\n",
              "      <td>Skin Care</td>\n",
              "      <td>Generic 1 Pc brand snail eye cream remove dar...</td>\n",
              "      <td>Use: eye, item type: cream, net wt: 20g, gzzz:...</td>\n",
              "      <td>Generic</td>\n",
              "      <td>NaN</td>\n",
              "      <td>1824</td>\n",
              "      <td>1042</td>\n",
              "      <td>42.87%</td>\n",
              "      <td>NaN</td>\n",
              "      <td>YES</td>\n",
              "    </tr>\n",
              "    <tr>\n",
              "      <th>3</th>\n",
              "      <td>08b1bd85c3efc2d7aa556fd79b073382</td>\n",
              "      <td>2019-10-29 16:16:52 +0000</td>\n",
              "      <td>Skin Care</td>\n",
              "      <td>Generic Anti Snoring Snore Stopper Sleep Apne...</td>\n",
              "      <td>Prevent the tongue from dropping backward or b...</td>\n",
              "      <td>Generic</td>\n",
              "      <td>NaN</td>\n",
              "      <td>2185</td>\n",
              "      <td>1399</td>\n",
              "      <td>35.97%</td>\n",
              "      <td>NaN</td>\n",
              "      <td>YES</td>\n",
              "    </tr>\n",
              "    <tr>\n",
              "      <th>4</th>\n",
              "      <td>3ac3f213732512d1d11bb73ab3b1900f</td>\n",
              "      <td>2019-10-31 09:32:06 +0000</td>\n",
              "      <td>Grocery &amp; Gourmet Foods</td>\n",
              "      <td>Harveys Crunchy &amp; Creame Gourmet Delicacies C...</td>\n",
              "      <td>Harvey's wafer Cream Wafer 110g. Made in India</td>\n",
              "      <td>Harveys</td>\n",
              "      <td>NaN</td>\n",
              "      <td>594</td>\n",
              "      <td>570</td>\n",
              "      <td>4.04%</td>\n",
              "      <td>NaN</td>\n",
              "      <td>YES</td>\n",
              "    </tr>\n",
              "  </tbody>\n",
              "</table>\n",
              "</div>"
            ],
            "text/plain": [
              "                            Uniq Id  ... Stock Availibility\n",
              "0  eb49cc038190f6f03c272f79fbbce894  ...                YES\n",
              "1  1657cc30c438affede6a5060d6847363  ...                YES\n",
              "2  41654633cce38c8650690f6dbac01fd3  ...                YES\n",
              "3  08b1bd85c3efc2d7aa556fd79b073382  ...                YES\n",
              "4  3ac3f213732512d1d11bb73ab3b1900f  ...                YES\n",
              "\n",
              "[5 rows x 12 columns]"
            ]
          },
          "metadata": {
            "tags": []
          },
          "execution_count": 3
        }
      ]
    },
    {
      "cell_type": "markdown",
      "metadata": {
        "id": "Hq08JLpUmQT-"
      },
      "source": [
        "###Rows,Columns"
      ]
    },
    {
      "cell_type": "code",
      "metadata": {
        "id": "tTbIYorHVrJK",
        "outputId": "7cb45f0d-6f71-408d-ea2f-7a42e6164925",
        "colab": {
          "base_uri": "https://localhost:8080/",
          "height": 34
        }
      },
      "source": [
        "amzn.shape"
      ],
      "execution_count": null,
      "outputs": [
        {
          "output_type": "execute_result",
          "data": {
            "text/plain": [
              "(30000, 12)"
            ]
          },
          "metadata": {
            "tags": []
          },
          "execution_count": 4
        }
      ]
    },
    {
      "cell_type": "markdown",
      "metadata": {
        "id": "WP4SjbqkmDd-"
      },
      "source": [
        "###No. of NULL/Na values in each field"
      ]
    },
    {
      "cell_type": "code",
      "metadata": {
        "id": "iK4dhPSpNEcn",
        "outputId": "04262f7f-eb9c-4c6a-a412-b800b83ecf67",
        "colab": {
          "base_uri": "https://localhost:8080/",
          "height": 235
        }
      },
      "source": [
        "amzn.isna().sum()"
      ],
      "execution_count": null,
      "outputs": [
        {
          "output_type": "execute_result",
          "data": {
            "text/plain": [
              "Uniq Id                      0\n",
              "Crawl Timestamp              0\n",
              "Category                     0\n",
              "Product Title                0\n",
              "Product Description       1990\n",
              "Brand                       87\n",
              "Pack Size Or Quantity    19776\n",
              "Mrp                        699\n",
              "Price                      600\n",
              "Offers                     466\n",
              "Combo Offers             29963\n",
              "Stock Availibility           0\n",
              "dtype: int64"
            ]
          },
          "metadata": {
            "tags": []
          },
          "execution_count": 5
        }
      ]
    },
    {
      "cell_type": "code",
      "metadata": {
        "id": "6PVvlb5xkMZk",
        "outputId": "e6d20a22-7409-450a-8d8d-b090d7defb56",
        "colab": {
          "base_uri": "https://localhost:8080/",
          "height": 218
        }
      },
      "source": [
        "amzn['Brand'].value_counts()"
      ],
      "execution_count": null,
      "outputs": [
        {
          "output_type": "execute_result",
          "data": {
            "text/plain": [
              "CHOCOCRAFT        1465\n",
              "Generic           1284\n",
              "Chocholik          698\n",
              "World Beauty       527\n",
              "BOGATCHI           420\n",
              "                  ... \n",
              "Chamundi Hills       1\n",
              "Inner Sense          1\n",
              "GrainNest            1\n",
              "Mr. Natty            1\n",
              "DYNAPOP              1\n",
              "Name: Brand, Length: 8454, dtype: int64"
            ]
          },
          "metadata": {
            "tags": []
          },
          "execution_count": 6
        }
      ]
    },
    {
      "cell_type": "code",
      "metadata": {
        "id": "mJ3v8Q6blFW2",
        "outputId": "67024135-2f6e-4ff1-eb77-8dc986d415e1",
        "colab": {
          "base_uri": "https://localhost:8080/",
          "height": 101
        }
      },
      "source": [
        "amzn['Price'].describe()"
      ],
      "execution_count": null,
      "outputs": [
        {
          "output_type": "execute_result",
          "data": {
            "text/plain": [
              "count     29400\n",
              "unique     6296\n",
              "top         695\n",
              "freq        389\n",
              "Name: Price, dtype: object"
            ]
          },
          "metadata": {
            "tags": []
          },
          "execution_count": 7
        }
      ]
    },
    {
      "cell_type": "code",
      "metadata": {
        "id": "MxpYPvBlljpz",
        "outputId": "50477062-8bdb-4c0b-ff4b-33ddb4c9454c",
        "colab": {
          "base_uri": "https://localhost:8080/",
          "height": 84
        }
      },
      "source": [
        "amzn.columns"
      ],
      "execution_count": null,
      "outputs": [
        {
          "output_type": "execute_result",
          "data": {
            "text/plain": [
              "Index(['Uniq Id', 'Crawl Timestamp', 'Category', 'Product Title',\n",
              "       'Product Description', 'Brand', 'Pack Size Or Quantity', 'Mrp', 'Price',\n",
              "       'Offers', 'Combo Offers', 'Stock Availibility'],\n",
              "      dtype='object')"
            ]
          },
          "metadata": {
            "tags": []
          },
          "execution_count": 8
        }
      ]
    },
    {
      "cell_type": "code",
      "metadata": {
        "id": "x5sfhoOLth4w",
        "outputId": "f8b210c7-127f-466a-e916-87c4c83de15f",
        "colab": {
          "base_uri": "https://localhost:8080/",
          "height": 238
        }
      },
      "source": [
        "amzn['Product Title'].value_counts()"
      ],
      "execution_count": null,
      "outputs": [
        {
          "output_type": "execute_result",
          "data": {
            "text/plain": [
              " Xplus Bath Loofah(Pack of 3)                                                                                                                                  39\n",
              " Bogatchi Chocolate Gift Box, Happy Diwali Chocolate, Diwali Chocolate Gifts, Diwali Chocolate Gift, Diwali Chocolate Bar, Diwali Gifts, 15 Pieces             16\n",
              " Xplus Bath Loofah                                                                                                                                             11\n",
              " Midiron Happy Raksha Bandhan Return Gift for Sister with Printed Ceramic Mug and 2 Chocolate Bar                                                               8\n",
              " Zyrex Forever Long Cream-100 Gram A Natural Magical Cream With Imported Korean Herbs                                                                           6\n",
              "                                                                                                                                                               ..\n",
              " KR ATTARWALA Khus Kasturi Mitti 3 Attar Ittar Perfume Essential Oil Roll-on (6 ml)                                                                             1\n",
              " Lotus Professional Phytorx Daily Deep Cleansing Face Wash, 80g                                                                                                 1\n",
              " The \"Little Red Dress\" Gift Set for Her, by Avon                                                                                                               1\n",
              " African Shea Butter - \"Smooth Kisses Around the World\" - 100% Natural - Raw - Handcrafted - Grade A - 1/2 oz                                                   1\n",
              " Ancient flower - Rose Water & Natural Vitamin C and Rosehip - Night Glow Serum & Oil Juice - Lip Oil - With Natural Vitamin A,C,E (100 ml + 10 ml + 8 ml)      1\n",
              "Name: Product Title, Length: 29630, dtype: int64"
            ]
          },
          "metadata": {
            "tags": []
          },
          "execution_count": 9
        }
      ]
    },
    {
      "cell_type": "code",
      "metadata": {
        "id": "GF8vOWPLuqvr",
        "outputId": "95d3021d-8e6d-4296-d377-5fab42b33a15",
        "colab": {
          "base_uri": "https://localhost:8080/",
          "height": 101
        }
      },
      "source": [
        "amzn['Brand'].describe()"
      ],
      "execution_count": null,
      "outputs": [
        {
          "output_type": "execute_result",
          "data": {
            "text/plain": [
              "count          29913\n",
              "unique          8454\n",
              "top       CHOCOCRAFT\n",
              "freq            1465\n",
              "Name: Brand, dtype: object"
            ]
          },
          "metadata": {
            "tags": []
          },
          "execution_count": 14
        }
      ]
    },
    {
      "cell_type": "code",
      "metadata": {
        "id": "yg1ijBT7QMXB"
      },
      "source": [
        ""
      ],
      "execution_count": null,
      "outputs": []
    }
  ]
}