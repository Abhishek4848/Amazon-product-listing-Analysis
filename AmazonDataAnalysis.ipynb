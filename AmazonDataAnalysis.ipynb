{
  "nbformat": 4,
  "nbformat_minor": 0,
  "metadata": {
    "colab": {
      "name": "AmazonDataAnalysis.ipynb",
      "provenance": [],
      "collapsed_sections": [],
      "include_colab_link": true
    },
    "kernelspec": {
      "name": "python3",
      "display_name": "Python 3"
    }
  },
  "cells": [
    {
      "cell_type": "markdown",
      "metadata": {
        "id": "view-in-github",
        "colab_type": "text"
      },
      "source": [
        "<a href=\"https://colab.research.google.com/github/Abhishek4848/Amazon-product-listing-Analysis/blob/master/AmazonDataAnalysis.ipynb\" target=\"_parent\"><img src=\"https://colab.research.google.com/assets/colab-badge.svg\" alt=\"Open In Colab\"/></a>"
      ]
    },
    {
      "cell_type": "markdown",
      "metadata": {
        "id": "RC_BCAx97tCu"
      },
      "source": [
        "## Importing modules\n"
      ]
    },
    {
      "cell_type": "code",
      "metadata": {
        "id": "eVjqWxbX7w6K"
      },
      "source": [
        "import pandas as pd\n",
        "import numpy as np\n",
        "import matplotlib.pyplot as plt\n",
        "import seaborn as sns\n",
        "from datetime import datetime"
      ],
      "execution_count": 1,
      "outputs": []
    },
    {
      "cell_type": "code",
      "metadata": {
        "id": "-cpCL2eS76ZC"
      },
      "source": [
        "url = 'https://raw.githubusercontent.com/Abhishek4848/Amazon-product-listing-Analysis/master/AmazonData.csv'\n",
        "amzn = pd.read_csv(url, error_bad_lines=False)"
      ],
      "execution_count": 2,
      "outputs": []
    },
    {
      "cell_type": "code",
      "metadata": {
        "id": "vxn7GBIlAR3U",
        "outputId": "8ce84b80-6ba6-4b90-bc86-42f15279a6aa",
        "colab": {
          "base_uri": "https://localhost:8080/",
          "height": 669
        }
      },
      "source": [
        "amzn.head()"
      ],
      "execution_count": 3,
      "outputs": [
        {
          "output_type": "execute_result",
          "data": {
            "text/html": [
              "<div>\n",
              "<style scoped>\n",
              "    .dataframe tbody tr th:only-of-type {\n",
              "        vertical-align: middle;\n",
              "    }\n",
              "\n",
              "    .dataframe tbody tr th {\n",
              "        vertical-align: top;\n",
              "    }\n",
              "\n",
              "    .dataframe thead th {\n",
              "        text-align: right;\n",
              "    }\n",
              "</style>\n",
              "<table border=\"1\" class=\"dataframe\">\n",
              "  <thead>\n",
              "    <tr style=\"text-align: right;\">\n",
              "      <th></th>\n",
              "      <th>Uniq Id</th>\n",
              "      <th>Crawl Timestamp</th>\n",
              "      <th>Category</th>\n",
              "      <th>Product Title</th>\n",
              "      <th>Product Description</th>\n",
              "      <th>Brand</th>\n",
              "      <th>Pack Size Or Quantity</th>\n",
              "      <th>Mrp</th>\n",
              "      <th>Price</th>\n",
              "      <th>Offers</th>\n",
              "      <th>Combo Offers</th>\n",
              "      <th>Stock Availibility</th>\n",
              "    </tr>\n",
              "  </thead>\n",
              "  <tbody>\n",
              "    <tr>\n",
              "      <th>0</th>\n",
              "      <td>eb49cc038190f6f03c272f79fbbce894</td>\n",
              "      <td>2019-10-30 11:38:11 +0000</td>\n",
              "      <td>Skin Care</td>\n",
              "      <td>Lee posh Lactic Acid 60% Anti ageing Pigmenta...</td>\n",
              "      <td>PROFESSIONAL GRADE Face Peel: this peel stimul...</td>\n",
              "      <td>Lee Posh</td>\n",
              "      <td>NaN</td>\n",
              "      <td>2000</td>\n",
              "      <td>799</td>\n",
              "      <td>60.05%</td>\n",
              "      <td>NaN</td>\n",
              "      <td>YES</td>\n",
              "    </tr>\n",
              "    <tr>\n",
              "      <th>1</th>\n",
              "      <td>1657cc30c438affede6a5060d6847363</td>\n",
              "      <td>2019-10-31 15:46:54 +0000</td>\n",
              "      <td>Skin Care</td>\n",
              "      <td>Branded SLB Works New 1.5mm Titanium 1200 nee...</td>\n",
              "      <td>Item name: 1.5mm titanium 1200 needles microne...</td>\n",
              "      <td>SLB Works</td>\n",
              "      <td>NaN</td>\n",
              "      <td>2040</td>\n",
              "      <td>2040</td>\n",
              "      <td>0%</td>\n",
              "      <td>NaN</td>\n",
              "      <td>YES</td>\n",
              "    </tr>\n",
              "    <tr>\n",
              "      <th>2</th>\n",
              "      <td>41654633cce38c8650690f6dbac01fd3</td>\n",
              "      <td>2019-10-30 09:53:23 +0000</td>\n",
              "      <td>Skin Care</td>\n",
              "      <td>Generic 1 Pc brand snail eye cream remove dar...</td>\n",
              "      <td>Use: eye, item type: cream, net wt: 20g, gzzz:...</td>\n",
              "      <td>Generic</td>\n",
              "      <td>NaN</td>\n",
              "      <td>1824</td>\n",
              "      <td>1042</td>\n",
              "      <td>42.87%</td>\n",
              "      <td>NaN</td>\n",
              "      <td>YES</td>\n",
              "    </tr>\n",
              "    <tr>\n",
              "      <th>3</th>\n",
              "      <td>08b1bd85c3efc2d7aa556fd79b073382</td>\n",
              "      <td>2019-10-29 16:16:52 +0000</td>\n",
              "      <td>Skin Care</td>\n",
              "      <td>Generic Anti Snoring Snore Stopper Sleep Apne...</td>\n",
              "      <td>Prevent the tongue from dropping backward or b...</td>\n",
              "      <td>Generic</td>\n",
              "      <td>NaN</td>\n",
              "      <td>2185</td>\n",
              "      <td>1399</td>\n",
              "      <td>35.97%</td>\n",
              "      <td>NaN</td>\n",
              "      <td>YES</td>\n",
              "    </tr>\n",
              "    <tr>\n",
              "      <th>4</th>\n",
              "      <td>3ac3f213732512d1d11bb73ab3b1900f</td>\n",
              "      <td>2019-10-31 09:32:06 +0000</td>\n",
              "      <td>Grocery &amp; Gourmet Foods</td>\n",
              "      <td>Harveys Crunchy &amp; Creame Gourmet Delicacies C...</td>\n",
              "      <td>Harvey's wafer Cream Wafer 110g. Made in India</td>\n",
              "      <td>Harveys</td>\n",
              "      <td>NaN</td>\n",
              "      <td>594</td>\n",
              "      <td>570</td>\n",
              "      <td>4.04%</td>\n",
              "      <td>NaN</td>\n",
              "      <td>YES</td>\n",
              "    </tr>\n",
              "  </tbody>\n",
              "</table>\n",
              "</div>"
            ],
            "text/plain": [
              "                            Uniq Id  ... Stock Availibility\n",
              "0  eb49cc038190f6f03c272f79fbbce894  ...                YES\n",
              "1  1657cc30c438affede6a5060d6847363  ...                YES\n",
              "2  41654633cce38c8650690f6dbac01fd3  ...                YES\n",
              "3  08b1bd85c3efc2d7aa556fd79b073382  ...                YES\n",
              "4  3ac3f213732512d1d11bb73ab3b1900f  ...                YES\n",
              "\n",
              "[5 rows x 12 columns]"
            ]
          },
          "metadata": {
            "tags": []
          },
          "execution_count": 3
        }
      ]
    },
    {
      "cell_type": "markdown",
      "metadata": {
        "id": "Hq08JLpUmQT-"
      },
      "source": [
        "###Rows,Columns"
      ]
    },
    {
      "cell_type": "code",
      "metadata": {
        "id": "tTbIYorHVrJK",
        "outputId": "e3290667-a6f2-4b8f-8d41-f870232de746",
        "colab": {
          "base_uri": "https://localhost:8080/",
          "height": 34
        }
      },
      "source": [
        "amzn.shape"
      ],
      "execution_count": 4,
      "outputs": [
        {
          "output_type": "execute_result",
          "data": {
            "text/plain": [
              "(30000, 12)"
            ]
          },
          "metadata": {
            "tags": []
          },
          "execution_count": 4
        }
      ]
    },
    {
      "cell_type": "markdown",
      "metadata": {
        "id": "WP4SjbqkmDd-"
      },
      "source": [
        "###No. of NULL/Na values in each field"
      ]
    },
    {
      "cell_type": "code",
      "metadata": {
        "id": "iK4dhPSpNEcn",
        "outputId": "e9335722-289c-41ce-84b8-562d6f2aabfc",
        "colab": {
          "base_uri": "https://localhost:8080/",
          "height": 235
        }
      },
      "source": [
        "amzn.isna().sum()"
      ],
      "execution_count": 5,
      "outputs": [
        {
          "output_type": "execute_result",
          "data": {
            "text/plain": [
              "Uniq Id                      0\n",
              "Crawl Timestamp              0\n",
              "Category                     0\n",
              "Product Title                0\n",
              "Product Description       1990\n",
              "Brand                       87\n",
              "Pack Size Or Quantity    19776\n",
              "Mrp                        699\n",
              "Price                      600\n",
              "Offers                     466\n",
              "Combo Offers             29963\n",
              "Stock Availibility           0\n",
              "dtype: int64"
            ]
          },
          "metadata": {
            "tags": []
          },
          "execution_count": 5
        }
      ]
    },
    {
      "cell_type": "code",
      "metadata": {
        "id": "6PVvlb5xkMZk",
        "outputId": "1f3987f8-ac63-4f19-c8b3-4fa74740ad92",
        "colab": {
          "base_uri": "https://localhost:8080/",
          "height": 218
        }
      },
      "source": [
        "amzn['Brand'].value_counts()"
      ],
      "execution_count": 6,
      "outputs": [
        {
          "output_type": "execute_result",
          "data": {
            "text/plain": [
              "CHOCOCRAFT               1465\n",
              "Generic                  1284\n",
              "Chocholik                 698\n",
              "World Beauty              527\n",
              "BOGATCHI                  420\n",
              "                         ... \n",
              "Laysindia                   1\n",
              "Kuntala                     1\n",
              "Killer Price                1\n",
              "SKIN+CARE+BY+EVA            1\n",
              "Embuer Health Pvt Ltd       1\n",
              "Name: Brand, Length: 8454, dtype: int64"
            ]
          },
          "metadata": {
            "tags": []
          },
          "execution_count": 6
        }
      ]
    },
    {
      "cell_type": "code",
      "metadata": {
        "id": "mJ3v8Q6blFW2",
        "outputId": "64b20a5d-483d-4b85-8f30-70100f9450e3",
        "colab": {
          "base_uri": "https://localhost:8080/",
          "height": 101
        }
      },
      "source": [
        "amzn['Mrp'].describe()"
      ],
      "execution_count": 7,
      "outputs": [
        {
          "output_type": "execute_result",
          "data": {
            "text/plain": [
              "count     29301\n",
              "unique     6371\n",
              "top         999\n",
              "freq        808\n",
              "Name: Mrp, dtype: object"
            ]
          },
          "metadata": {
            "tags": []
          },
          "execution_count": 7
        }
      ]
    },
    {
      "cell_type": "code",
      "metadata": {
        "id": "MxpYPvBlljpz",
        "outputId": "6c173af2-0758-4950-83a6-d24e488690b4",
        "colab": {
          "base_uri": "https://localhost:8080/",
          "height": 84
        }
      },
      "source": [
        "amzn.columns"
      ],
      "execution_count": 8,
      "outputs": [
        {
          "output_type": "execute_result",
          "data": {
            "text/plain": [
              "Index(['Uniq Id', 'Crawl Timestamp', 'Category', 'Product Title',\n",
              "       'Product Description', 'Brand', 'Pack Size Or Quantity', 'Mrp', 'Price',\n",
              "       'Offers', 'Combo Offers', 'Stock Availibility'],\n",
              "      dtype='object')"
            ]
          },
          "metadata": {
            "tags": []
          },
          "execution_count": 8
        }
      ]
    },
    {
      "cell_type": "code",
      "metadata": {
        "id": "x5sfhoOLth4w",
        "outputId": "4c37a048-6746-401b-c958-817476abbcdf",
        "colab": {
          "base_uri": "https://localhost:8080/",
          "height": 238
        }
      },
      "source": [
        "amzn['Product Title'].value_counts()"
      ],
      "execution_count": 9,
      "outputs": [
        {
          "output_type": "execute_result",
          "data": {
            "text/plain": [
              " Xplus Bath Loofah(Pack of 3)                                                                                                                          39\n",
              " Bogatchi Chocolate Gift Box, Happy Diwali Chocolate, Diwali Chocolate Gifts, Diwali Chocolate Gift, Diwali Chocolate Bar, Diwali Gifts, 15 Pieces     16\n",
              " Xplus Bath Loofah                                                                                                                                     11\n",
              " Midiron Happy Raksha Bandhan Return Gift for Sister with Printed Ceramic Mug and 2 Chocolate Bar                                                       8\n",
              " Zyrex Forever Long Cream-100 Gram A Natural Magical Cream With Imported Korean Herbs                                                                   6\n",
              "                                                                                                                                                       ..\n",
              " Plum Age Specialist Bright Years Cell Renewal Serum 30ml                                                                                               1\n",
              " XIMI VOGUE Compressed Towel Tissue Paper (24 Pcs)                                                                                                      1\n",
              " CHOCOCRAFT - Friendship day gifts - 12 Chocolate Gift Box - Chocolate gift box                                                                         1\n",
              " Her name Charcoal blackhead pro remover Tearing nose outlet women men black head skin care Tearing-type cleaning                                       1\n",
              " Mennen Speed Stick Deodorant 3 Ounce Power Fresh (88ml) (2 Pack)                                                                                       1\n",
              "Name: Product Title, Length: 29630, dtype: int64"
            ]
          },
          "metadata": {
            "tags": []
          },
          "execution_count": 9
        }
      ]
    },
    {
      "cell_type": "markdown",
      "metadata": {
        "id": "hvqqRVSTOl_N"
      },
      "source": [
        "  #### HEATMAP FOR NULL VALUES"
      ]
    },
    {
      "cell_type": "code",
      "metadata": {
        "id": "pFLWjmKkOXJk",
        "outputId": "21d0aeae-6aa4-44dd-c75d-a8c7b05ef9bd",
        "colab": {
          "base_uri": "https://localhost:8080/",
          "height": 384
        }
      },
      "source": [
        "sns.heatmap(amzn.isna())"
      ],
      "execution_count": 10,
      "outputs": [
        {
          "output_type": "execute_result",
          "data": {
            "text/plain": [
              "<matplotlib.axes._subplots.AxesSubplot at 0x7f59c99ea0f0>"
            ]
          },
          "metadata": {
            "tags": []
          },
          "execution_count": 10
        },
        {
          "output_type": "display_data",
          "data": {
            "image/png": "[encoded data removed]",
            "text/plain": [
              "<Figure size 432x288 with 2 Axes>"
            ]
          },
          "metadata": {
            "tags": [],
            "needs_background": "light"
          }
        }
      ]
    },
    {
      "cell_type": "markdown",
      "metadata": {
        "id": "fDJQlkO2v4c-"
      },
      "source": [
        "## DATA CLEANING"
      ]
    },
    {
      "cell_type": "markdown",
      "metadata": {
        "id": "oYbxx9tFv8Vf"
      },
      "source": [
        "\n",
        "\n",
        "### brand column fix"
      ]
    },
    {
      "cell_type": "code",
      "metadata": {
        "id": "GF8vOWPLuqvr",
        "outputId": "0700be40-ed11-4bf7-bdbf-562dfc173722",
        "colab": {
          "base_uri": "https://localhost:8080/",
          "height": 34
        }
      },
      "source": [
        "#there are empty spaces in brand column which is as good as NaN value\n",
        "amzn['Brand'].replace(' ',np.NaN,inplace=True)\n",
        "print(\"EMPTY VALUES IN BRAND COLUMN: \",amzn['Brand'].isna().sum())"
      ],
      "execution_count": 11,
      "outputs": [
        {
          "output_type": "stream",
          "text": [
            "EMPTY VALUES IN BRAND COLUMN:  184\n"
          ],
          "name": "stdout"
        }
      ]
    },
    {
      "cell_type": "markdown",
      "metadata": {
        "id": "JwzrNtDVwnOc"
      },
      "source": [
        "since there is only 184 empty  in the brand column , we can impute these values instead of removing it."
      ]
    },
    {
      "cell_type": "code",
      "metadata": {
        "id": "yg1ijBT7QMXB"
      },
      "source": [
        "amzn['Brand'].replace(np.NaN,-1,inplace=True)\n",
        "for i in range(len(amzn['Uniq Id'])):\n",
        "    if(amzn['Brand'][i] == -1):\n",
        "        brand = amzn['Product Title'][i].strip().split(' ')\n",
        "        amzn['Brand'][i] = \" \".join(brand[0:2])\n",
        "        #print(brand[0:2])"
      ],
      "execution_count": 12,
      "outputs": []
    },
    {
      "cell_type": "code",
      "metadata": {
        "id": "nhpuGnUTxC9Z",
        "outputId": "a0fc3136-b2fa-408b-d20b-8a9bf7b78775",
        "colab": {
          "base_uri": "https://localhost:8080/",
          "height": 235
        }
      },
      "source": [
        "amzn.isna().sum()"
      ],
      "execution_count": 13,
      "outputs": [
        {
          "output_type": "execute_result",
          "data": {
            "text/plain": [
              "Uniq Id                      0\n",
              "Crawl Timestamp              0\n",
              "Category                     0\n",
              "Product Title                0\n",
              "Product Description       1990\n",
              "Brand                        0\n",
              "Pack Size Or Quantity    19776\n",
              "Mrp                        699\n",
              "Price                      600\n",
              "Offers                     466\n",
              "Combo Offers             29963\n",
              "Stock Availibility           0\n",
              "dtype: int64"
            ]
          },
          "metadata": {
            "tags": []
          },
          "execution_count": 13
        }
      ]
    },
    {
      "cell_type": "markdown",
      "metadata": {
        "id": "O7psKQoiQOOX"
      },
      "source": [
        "### Price and Mrp Coulumn Fix"
      ]
    },
    {
      "cell_type": "code",
      "metadata": {
        "id": "62F3psoB6C3E",
        "outputId": "1ae931a3-f48f-4fd0-f2bc-a47fe22cf34f",
        "colab": {
          "base_uri": "https://localhost:8080/",
          "height": 34
        }
      },
      "source": [
        "amzn['Price'].replace('NAN',np.NaN,inplace=True)\n",
        "print(\"EMPTY VALUES IN PRICE COLUMN: \",amzn['Price'].isna().sum())"
      ],
      "execution_count": 14,
      "outputs": [
        {
          "output_type": "stream",
          "text": [
            "EMPTY VALUES IN PRICE COLUMN:  600\n"
          ],
          "name": "stdout"
        }
      ]
    },
    {
      "cell_type": "code",
      "metadata": {
        "id": "s_LxZUUeSN04"
      },
      "source": [
        "for i in range(len(amzn['Uniq Id'])):\n",
        "  try:\n",
        "    amzn['Price'][i] == float(amzn['Price'][i])\n",
        "    amzn['Mrp'][i] == float(amzn['Mrp'][i])\n",
        "  except:\n",
        "    price = float(amzn['Price'][i][1:])\n",
        "    mrp = float(amzn['Mrp'][i][1:])\n",
        "    amzn['Price'][i] = price\n",
        "    amzn['Mrp'][i] = mrp\n"
      ],
      "execution_count": 15,
      "outputs": []
    },
    {
      "cell_type": "code",
      "metadata": {
        "id": "xmbqNFHdD2aD"
      },
      "source": [
        "for i in range(len(amzn['Uniq Id'])):\n",
        "  try:\n",
        "    amzn['Mrp'][i] == float(amzn['Mrp'][i])\n",
        "  except:\n",
        "    mrp = float(amzn['Mrp'][i][1:])\n",
        "    amzn['Mrp'][i] = mrp"
      ],
      "execution_count": 16,
      "outputs": []
    },
    {
      "cell_type": "code",
      "metadata": {
        "id": "zR5OEKEPE_17",
        "outputId": "9ec0b240-1195-44d9-9f33-529e4372e566",
        "colab": {
          "base_uri": "https://localhost:8080/",
          "height": 134
        }
      },
      "source": [
        "amzn['Category'].value_counts()"
      ],
      "execution_count": 17,
      "outputs": [
        {
          "output_type": "execute_result",
          "data": {
            "text/plain": [
              "Skin Care                  15033\n",
              "Grocery & Gourmet Foods     8064\n",
              "Hair Care                   2459\n",
              "Bath & Shower               2140\n",
              "Fragrance                   2107\n",
              "Detergents & Dishwash        197\n",
              "Name: Category, dtype: int64"
            ]
          },
          "metadata": {
            "tags": []
          },
          "execution_count": 17
        }
      ]
    },
    {
      "cell_type": "code",
      "metadata": {
        "id": "4y6kb02o-D2y"
      },
      "source": [
        "amzn['Price'] = amzn['Price'].astype('float')\n",
        "amzn['Mrp'] = amzn['Mrp'].astype('float')\n",
        "\n",
        "skin_care = amzn[amzn['Category'] == 'Skin Care']\n",
        "grocery =  amzn[amzn['Category'] == 'Grocery & Gourmet Foods']\n",
        "bath = amzn[amzn['Category'] == 'Bath & Shower']\n",
        "fragrance = amzn[amzn['Category'] == 'Fragrance']\n",
        "Hair = amzn[amzn['Category'] == 'Hair Care']\n",
        "Dish =amzn[amzn['Category'] == 'Detergents & Dishwash']\n",
        "#np.mean([amzn['Price'][i]=='Hair Care' for i in range(len(amzn['Uniq Id']))])"
      ],
      "execution_count": 18,
      "outputs": []
    },
    {
      "cell_type": "code",
      "metadata": {
        "id": "1SMWe_IN2Bx4",
        "outputId": "51ef2875-23da-4d4d-fe6a-dd808f0257a6",
        "colab": {
          "base_uri": "https://localhost:8080/",
          "height": 514
        }
      },
      "source": [
        "plt.figure(figsize = (15,8))\n",
        "sns.boxplot(y = amzn['Price'],  x = amzn['Category'])"
      ],
      "execution_count": 19,
      "outputs": [
        {
          "output_type": "execute_result",
          "data": {
            "text/plain": [
              "<matplotlib.axes._subplots.AxesSubplot at 0x7f59c9db0b70>"
            ]
          },
          "metadata": {
            "tags": []
          },
          "execution_count": 19
        },
        {
          "output_type": "display_data",
          "data": {
            "image/png": "[encoded data removed]",
            "text/plain": [
              "<Figure size 1080x576 with 1 Axes>"
            ]
          },
          "metadata": {
            "tags": [],
            "needs_background": "light"
          }
        }
      ]
    },
    {
      "cell_type": "code",
      "metadata": {
        "id": "TW0bTjoHTQM9",
        "outputId": "e48b7450-5f79-444e-8acf-22e2fae4aefe",
        "colab": {
          "base_uri": "https://localhost:8080/",
          "height": 202
        }
      },
      "source": [
        "print(\"THE MEDIAN PRICE FOR THE CATEGORY SKIN CARE IS : \",np.nanmedian(skin_care['Price']))\n",
        "skin_care['Price'].fillna(np.nanmedian(skin_care['Price']),inplace=True)\n",
        "print(\"THE MEDIAN PRICE FOR THE CATEGORY GROCERY IS : \",np.nanmedian(grocery['Price']))\n",
        "grocery['Price'].fillna(np.nanmedian(grocery['Price']),inplace=True)\n",
        "print(\"THE MEDIAN PRICE FOR THE CATEGORY BATH & SHOWER IS : \",np.nanmedian(bath['Price']))\n",
        "bath['Price'].fillna(np.nanmedian(bath['Price']),inplace=True)\n",
        "print(\"THE MEDIAN PRICE FOR THE CATEGORY FRAGRANCE IS : \",np.nanmedian(fragrance['Price']))\n",
        "fragrance['Price'].fillna(np.nanmedian(fragrance['Price']),inplace=True)\n",
        "print(\"THE MEDIAN PRICE FOR THE CATEGORY HAIR CARE IS : \",np.nanmedian(Hair['Price']))\n",
        "Hair['Price'].fillna(np.nanmedian(Hair['Price']),inplace=True)\n",
        "print(\"THE MEDIAN PRICE FOR THE CATEGORY DETERGENTS & DISHWASH IS : \",np.nanmedian(Dish['Price']))\n",
        "Dish['Price'].fillna(np.nanmedian(Dish['Price']),inplace=True)"
      ],
      "execution_count": 20,
      "outputs": [
        {
          "output_type": "stream",
          "text": [
            "THE MEDIAN PRICE FOR THE CATEGORY SKIN CARE IS :  1390.0\n",
            "THE MEDIAN PRICE FOR THE CATEGORY GROCERY IS :  630.0\n",
            "THE MEDIAN PRICE FOR THE CATEGORY BATH & SHOWER IS :  1029.0\n",
            "THE MEDIAN PRICE FOR THE CATEGORY FRAGRANCE IS :  1056.5\n",
            "THE MEDIAN PRICE FOR THE CATEGORY HAIR CARE IS :  1047.5\n",
            "THE MEDIAN PRICE FOR THE CATEGORY DETERGENTS & DISHWASH IS :  399.0\n"
          ],
          "name": "stdout"
        },
        {
          "output_type": "stream",
          "text": [
            "/usr/local/lib/python3.6/dist-packages/pandas/core/series.py:4523: SettingWithCopyWarning: \n",
            "A value is trying to be set on a copy of a slice from a DataFrame\n",
            "\n",
            "See the caveats in the documentation: https://pandas.pydata.org/pandas-docs/stable/user_guide/indexing.html#returning-a-view-versus-a-copy\n",
            "  downcast=downcast,\n"
          ],
          "name": "stderr"
        }
      ]
    },
    {
      "cell_type": "code",
      "metadata": {
        "id": "0ySduRaVTkYq",
        "outputId": "2efe1b99-d51f-4bee-cb80-614005f7a3cb",
        "colab": {
          "base_uri": "https://localhost:8080/",
          "height": 202
        }
      },
      "source": [
        "print(\"THE MEDIAN MRP FOR THE CATEGORY SKIN CARE IS : \",np.nanmedian(skin_care['Mrp']))\n",
        "skin_care['Mrp'].fillna(np.nanmedian(skin_care['Mrp']),inplace=True)\n",
        "print(\"THE MEDIAN MRP FOR THE CATEGORY GROCERY IS : \",np.nanmedian(grocery['Mrp']))\n",
        "grocery['Mrp'].fillna(np.nanmedian(grocery['Mrp']),inplace=True)\n",
        "print(\"THE MEDIAN MRP FOR THE CATEGORY BATH & SHOWER IS : \",np.nanmedian(bath['Mrp']))\n",
        "bath['Mrp'].fillna(np.nanmedian(bath['Mrp']),inplace=True)\n",
        "print(\"THE MEDIAN MRP FOR THE CATEGORY FRAGRANCE IS : \",np.nanmedian(fragrance['Mrp']))\n",
        "fragrance['Mrp'].fillna(np.nanmedian(fragrance['Mrp']),inplace=True)\n",
        "print(\"THE MEDIAN MRP FOR THE CATEGORY HAIR CARE IS : \",np.nanmedian(Hair['Mrp']))\n",
        "Hair['Mrp'].fillna(np.nanmedian(Hair['Mrp']),inplace=True)\n",
        "print(\"THE MEDIAN MRP FOR THE CATEGORY DETERGENTS & DISHWASH IS : \",np.nanmedian(Dish['Mrp']))\n",
        "Dish['Mrp'].fillna(np.nanmedian(Dish['Mrp']),inplace=True)"
      ],
      "execution_count": 21,
      "outputs": [
        {
          "output_type": "stream",
          "text": [
            "THE MEDIAN MRP FOR THE CATEGORY SKIN CARE IS :  1843.0\n",
            "THE MEDIAN MRP FOR THE CATEGORY GROCERY IS :  699.0\n",
            "THE MEDIAN MRP FOR THE CATEGORY BATH & SHOWER IS :  1521.0\n",
            "THE MEDIAN MRP FOR THE CATEGORY FRAGRANCE IS :  1499.0\n",
            "THE MEDIAN MRP FOR THE CATEGORY HAIR CARE IS :  1339.0\n",
            "THE MEDIAN MRP FOR THE CATEGORY DETERGENTS & DISHWASH IS :  425.0\n"
          ],
          "name": "stdout"
        },
        {
          "output_type": "stream",
          "text": [
            "/usr/local/lib/python3.6/dist-packages/pandas/core/series.py:4523: SettingWithCopyWarning: \n",
            "A value is trying to be set on a copy of a slice from a DataFrame\n",
            "\n",
            "See the caveats in the documentation: https://pandas.pydata.org/pandas-docs/stable/user_guide/indexing.html#returning-a-view-versus-a-copy\n",
            "  downcast=downcast,\n"
          ],
          "name": "stderr"
        }
      ]
    },
    {
      "cell_type": "code",
      "metadata": {
        "id": "xssGIjJUurr4",
        "outputId": "2d989268-a3b9-480d-b9bf-a9a82f69a6d3",
        "colab": {
          "base_uri": "https://localhost:8080/",
          "height": 34
        }
      },
      "source": [
        "amzn = pd.concat([skin_care,grocery,bath,fragrance,Hair,Dish])\n",
        "len(amzn)"
      ],
      "execution_count": 22,
      "outputs": [
        {
          "output_type": "execute_result",
          "data": {
            "text/plain": [
              "30000"
            ]
          },
          "metadata": {
            "tags": []
          },
          "execution_count": 22
        }
      ]
    },
    {
      "cell_type": "code",
      "metadata": {
        "id": "LT_JLeamv5AH",
        "outputId": "1102a514-0087-4c06-edec-6aae342a4ef0",
        "colab": {
          "base_uri": "https://localhost:8080/",
          "height": 354
        }
      },
      "source": [
        "sns.distplot(amzn['Price'])"
      ],
      "execution_count": 23,
      "outputs": [
        {
          "output_type": "stream",
          "text": [
            "/usr/local/lib/python3.6/dist-packages/seaborn/distributions.py:2551: FutureWarning: `distplot` is a deprecated function and will be removed in a future version. Please adapt your code to use either `displot` (a figure-level function with similar flexibility) or `histplot` (an axes-level function for histograms).\n",
            "  warnings.warn(msg, FutureWarning)\n"
          ],
          "name": "stderr"
        },
        {
          "output_type": "execute_result",
          "data": {
            "text/plain": [
              "<matplotlib.axes._subplots.AxesSubplot at 0x7f59c5b5fc18>"
            ]
          },
          "metadata": {
            "tags": []
          },
          "execution_count": 23
        },
        {
          "output_type": "display_data",
          "data": {
            "image/png": "[encoded data removed]",
            "text/plain": [
              "<Figure size 432x288 with 1 Axes>"
            ]
          },
          "metadata": {
            "tags": [],
            "needs_background": "light"
          }
        }
      ]
    },
    {
      "cell_type": "code",
      "metadata": {
        "id": "gMGG7Y2XwYbk",
        "outputId": "e6893475-05e7-4fdb-e02f-6bcf1c72f59c",
        "colab": {
          "base_uri": "https://localhost:8080/",
          "height": 350
        }
      },
      "source": [
        "sns.distplot(amzn['Mrp'])"
      ],
      "execution_count": 24,
      "outputs": [
        {
          "output_type": "stream",
          "text": [
            "/usr/local/lib/python3.6/dist-packages/seaborn/distributions.py:2551: FutureWarning: `distplot` is a deprecated function and will be removed in a future version. Please adapt your code to use either `displot` (a figure-level function with similar flexibility) or `histplot` (an axes-level function for histograms).\n",
            "  warnings.warn(msg, FutureWarning)\n"
          ],
          "name": "stderr"
        },
        {
          "output_type": "execute_result",
          "data": {
            "text/plain": [
              "<matplotlib.axes._subplots.AxesSubplot at 0x7f59c59882e8>"
            ]
          },
          "metadata": {
            "tags": []
          },
          "execution_count": 24
        },
        {
          "output_type": "display_data",
          "data": {
            "image/png": "[encoded data removed]",
            "text/plain": [
              "<Figure size 432x288 with 1 Axes>"
            ]
          },
          "metadata": {
            "tags": [],
            "needs_background": "light"
          }
        }
      ]
    },
    {
      "cell_type": "code",
      "metadata": {
        "id": "dlsnlV8PxiCG",
        "outputId": "01079097-fbcd-407b-d9f6-4bbbbee11f97",
        "colab": {
          "base_uri": "https://localhost:8080/",
          "height": 235
        }
      },
      "source": [
        "amzn.isna().sum()"
      ],
      "execution_count": 25,
      "outputs": [
        {
          "output_type": "execute_result",
          "data": {
            "text/plain": [
              "Uniq Id                      0\n",
              "Crawl Timestamp              0\n",
              "Category                     0\n",
              "Product Title                0\n",
              "Product Description       1990\n",
              "Brand                        0\n",
              "Pack Size Or Quantity    19776\n",
              "Mrp                          0\n",
              "Price                        0\n",
              "Offers                     466\n",
              "Combo Offers             29963\n",
              "Stock Availibility           0\n",
              "dtype: int64"
            ]
          },
          "metadata": {
            "tags": []
          },
          "execution_count": 25
        }
      ]
    },
    {
      "cell_type": "markdown",
      "metadata": {
        "id": "_0H4wYAs030Y"
      },
      "source": [
        "### OFFER column fix\n"
      ]
    },
    {
      "cell_type": "code",
      "metadata": {
        "id": "lnsRIVqs-g60",
        "outputId": "26cb52e3-22ab-4ef1-cbbe-5e22e25a7e4f",
        "colab": {
          "base_uri": "https://localhost:8080/",
          "height": 34
        }
      },
      "source": [
        "l = list(amzn.index)\n",
        "len(l)"
      ],
      "execution_count": 26,
      "outputs": [
        {
          "output_type": "execute_result",
          "data": {
            "text/plain": [
              "30000"
            ]
          },
          "metadata": {
            "tags": []
          },
          "execution_count": 26
        }
      ]
    },
    {
      "cell_type": "code",
      "metadata": {
        "id": "IT3IqyhS0u8o",
        "outputId": "2810c2a4-c507-43f5-ddb5-d6659f3e2a18",
        "colab": {
          "base_uri": "https://localhost:8080/",
          "height": 370
        }
      },
      "source": [
        "inval =[]\n",
        "for i in l:\n",
        "  try:\n",
        "    discount = (1 - amzn['Price'][i]/amzn['Mrp'][i])*100\n",
        "    if(discount < 0):\n",
        "      print(\"MRP :\",amzn['Mrp'][i])\n",
        "      print(\"PRICE:\",amzn['Price'][i])\n",
        "      discount = 0\n",
        "    amzn['Offers'][i] = discount\n",
        "  except:\n",
        "    inval.append(i)"
      ],
      "execution_count": 27,
      "outputs": [
        {
          "output_type": "stream",
          "text": [
            "/usr/local/lib/python3.6/dist-packages/ipykernel_launcher.py:9: SettingWithCopyWarning: \n",
            "A value is trying to be set on a copy of a slice from a DataFrame\n",
            "\n",
            "See the caveats in the documentation: https://pandas.pydata.org/pandas-docs/stable/user_guide/indexing.html#returning-a-view-versus-a-copy\n",
            "  if __name__ == '__main__':\n"
          ],
          "name": "stderr"
        },
        {
          "output_type": "stream",
          "text": [
            "MRP : 1843.0\n",
            "PRICE: 3200.0\n",
            "MRP : 1843.0\n",
            "PRICE: 2378.0\n",
            "MRP : 1843.0\n",
            "PRICE: 7820.0\n",
            "MRP : 1843.0\n",
            "PRICE: 6625.0\n",
            "MRP : 699.0\n",
            "PRICE: 773.0\n",
            "MRP : 1499.0\n",
            "PRICE: 3829.0\n",
            "MRP : 1339.0\n",
            "PRICE: 3045.0\n",
            "MRP : 425.0\n",
            "PRICE: 455.68\n"
          ],
          "name": "stdout"
        }
      ]
    },
    {
      "cell_type": "code",
      "metadata": {
        "id": "Mb_TP5Dp25qx",
        "outputId": "f15334db-5c8b-4b6b-8034-355d73654fe6",
        "colab": {
          "base_uri": "https://localhost:8080/",
          "height": 686
        }
      },
      "source": [
        "amzn.head()"
      ],
      "execution_count": 28,
      "outputs": [
        {
          "output_type": "execute_result",
          "data": {
            "text/html": [
              "<div>\n",
              "<style scoped>\n",
              "    .dataframe tbody tr th:only-of-type {\n",
              "        vertical-align: middle;\n",
              "    }\n",
              "\n",
              "    .dataframe tbody tr th {\n",
              "        vertical-align: top;\n",
              "    }\n",
              "\n",
              "    .dataframe thead th {\n",
              "        text-align: right;\n",
              "    }\n",
              "</style>\n",
              "<table border=\"1\" class=\"dataframe\">\n",
              "  <thead>\n",
              "    <tr style=\"text-align: right;\">\n",
              "      <th></th>\n",
              "      <th>Uniq Id</th>\n",
              "      <th>Crawl Timestamp</th>\n",
              "      <th>Category</th>\n",
              "      <th>Product Title</th>\n",
              "      <th>Product Description</th>\n",
              "      <th>Brand</th>\n",
              "      <th>Pack Size Or Quantity</th>\n",
              "      <th>Mrp</th>\n",
              "      <th>Price</th>\n",
              "      <th>Offers</th>\n",
              "      <th>Combo Offers</th>\n",
              "      <th>Stock Availibility</th>\n",
              "    </tr>\n",
              "  </thead>\n",
              "  <tbody>\n",
              "    <tr>\n",
              "      <th>0</th>\n",
              "      <td>eb49cc038190f6f03c272f79fbbce894</td>\n",
              "      <td>2019-10-30 11:38:11 +0000</td>\n",
              "      <td>Skin Care</td>\n",
              "      <td>Lee posh Lactic Acid 60% Anti ageing Pigmenta...</td>\n",
              "      <td>PROFESSIONAL GRADE Face Peel: this peel stimul...</td>\n",
              "      <td>Lee Posh</td>\n",
              "      <td>NaN</td>\n",
              "      <td>2000.0</td>\n",
              "      <td>799.0</td>\n",
              "      <td>60.05</td>\n",
              "      <td>NaN</td>\n",
              "      <td>YES</td>\n",
              "    </tr>\n",
              "    <tr>\n",
              "      <th>1</th>\n",
              "      <td>1657cc30c438affede6a5060d6847363</td>\n",
              "      <td>2019-10-31 15:46:54 +0000</td>\n",
              "      <td>Skin Care</td>\n",
              "      <td>Branded SLB Works New 1.5mm Titanium 1200 nee...</td>\n",
              "      <td>Item name: 1.5mm titanium 1200 needles microne...</td>\n",
              "      <td>SLB Works</td>\n",
              "      <td>NaN</td>\n",
              "      <td>2040.0</td>\n",
              "      <td>2040.0</td>\n",
              "      <td>0</td>\n",
              "      <td>NaN</td>\n",
              "      <td>YES</td>\n",
              "    </tr>\n",
              "    <tr>\n",
              "      <th>2</th>\n",
              "      <td>41654633cce38c8650690f6dbac01fd3</td>\n",
              "      <td>2019-10-30 09:53:23 +0000</td>\n",
              "      <td>Skin Care</td>\n",
              "      <td>Generic 1 Pc brand snail eye cream remove dar...</td>\n",
              "      <td>Use: eye, item type: cream, net wt: 20g, gzzz:...</td>\n",
              "      <td>Generic</td>\n",
              "      <td>NaN</td>\n",
              "      <td>1824.0</td>\n",
              "      <td>1042.0</td>\n",
              "      <td>42.8728</td>\n",
              "      <td>NaN</td>\n",
              "      <td>YES</td>\n",
              "    </tr>\n",
              "    <tr>\n",
              "      <th>3</th>\n",
              "      <td>08b1bd85c3efc2d7aa556fd79b073382</td>\n",
              "      <td>2019-10-29 16:16:52 +0000</td>\n",
              "      <td>Skin Care</td>\n",
              "      <td>Generic Anti Snoring Snore Stopper Sleep Apne...</td>\n",
              "      <td>Prevent the tongue from dropping backward or b...</td>\n",
              "      <td>Generic</td>\n",
              "      <td>NaN</td>\n",
              "      <td>2185.0</td>\n",
              "      <td>1399.0</td>\n",
              "      <td>35.9725</td>\n",
              "      <td>NaN</td>\n",
              "      <td>YES</td>\n",
              "    </tr>\n",
              "    <tr>\n",
              "      <th>5</th>\n",
              "      <td>f89b246d4e27c11623dbc7742523f319</td>\n",
              "      <td>2019-10-30 19:14:20 +0000</td>\n",
              "      <td>Skin Care</td>\n",
              "      <td>Shikai Borage Dry Skin Therapy Foot Cream, 4....</td>\n",
              "      <td>Package Quantity:3 Contains borage oil, clinic...</td>\n",
              "      <td>ShiKai</td>\n",
              "      <td>354 g</td>\n",
              "      <td>5344.0</td>\n",
              "      <td>5344.0</td>\n",
              "      <td>0</td>\n",
              "      <td>NaN</td>\n",
              "      <td>YES</td>\n",
              "    </tr>\n",
              "  </tbody>\n",
              "</table>\n",
              "</div>"
            ],
            "text/plain": [
              "                            Uniq Id  ... Stock Availibility\n",
              "0  eb49cc038190f6f03c272f79fbbce894  ...                YES\n",
              "1  1657cc30c438affede6a5060d6847363  ...                YES\n",
              "2  41654633cce38c8650690f6dbac01fd3  ...                YES\n",
              "3  08b1bd85c3efc2d7aa556fd79b073382  ...                YES\n",
              "5  f89b246d4e27c11623dbc7742523f319  ...                YES\n",
              "\n",
              "[5 rows x 12 columns]"
            ]
          },
          "metadata": {
            "tags": []
          },
          "execution_count": 28
        }
      ]
    },
    {
      "cell_type": "code",
      "metadata": {
        "id": "ap-3NlR03W4J"
      },
      "source": [
        "amzn['Offers'].dropna(axis = 0,inplace= True)"
      ],
      "execution_count": 29,
      "outputs": []
    },
    {
      "cell_type": "code",
      "metadata": {
        "id": "fm4TQegqGzgM"
      },
      "source": [
        "amzn['Combo Offers'].fillna(0,inplace = True)\n",
        "amzn['Combo Offers'].replace(1,'YES',inplace=True)\n",
        "amzn['Stock Availibility'].replace('YES',1,inplace=True)\n",
        "amzn['Stock Availibility'].replace('NO',0,inplace=True)\n",
        "amzn['Product Description'].fillna('-',inplace = True)\n",
        "amzn['Pack Size Or Quantity'].fillna('-',inplace=True)"
      ],
      "execution_count": 30,
      "outputs": []
    },
    {
      "cell_type": "code",
      "metadata": {
        "id": "TrzhGUliGy-j",
        "outputId": "8bce6275-07b3-4acd-d210-4ce1cf4c2d67",
        "colab": {
          "base_uri": "https://localhost:8080/",
          "height": 235
        }
      },
      "source": [
        "amzn.isna().sum()"
      ],
      "execution_count": 31,
      "outputs": [
        {
          "output_type": "execute_result",
          "data": {
            "text/plain": [
              "Uniq Id                  0\n",
              "Crawl Timestamp          0\n",
              "Category                 0\n",
              "Product Title            0\n",
              "Product Description      0\n",
              "Brand                    0\n",
              "Pack Size Or Quantity    0\n",
              "Mrp                      0\n",
              "Price                    0\n",
              "Offers                   0\n",
              "Combo Offers             0\n",
              "Stock Availibility       0\n",
              "dtype: int64"
            ]
          },
          "metadata": {
            "tags": []
          },
          "execution_count": 31
        }
      ]
    },
    {
      "cell_type": "markdown",
      "metadata": {
        "id": "EkbMG9STJe3Z"
      },
      "source": [
        "### Date column fix"
      ]
    },
    {
      "cell_type": "code",
      "metadata": {
        "id": "M0nNxG62JjfS",
        "outputId": "47404007-408f-497b-9d3a-f0b33f231acf",
        "colab": {
          "base_uri": "https://localhost:8080/",
          "height": 50
        }
      },
      "source": [
        "datetime_str = amzn['Crawl Timestamp'][0]\n",
        "datetime_object = datetime.strptime(datetime_str, '%Y-%m-%d %H:%M:%S %z')\n",
        "print(type(datetime_object))\n",
        "print(datetime_object)"
      ],
      "execution_count": 32,
      "outputs": [
        {
          "output_type": "stream",
          "text": [
            "<class 'datetime.datetime'>\n",
            "2019-10-30 11:38:11+00:00\n"
          ],
          "name": "stdout"
        }
      ]
    },
    {
      "cell_type": "code",
      "metadata": {
        "id": "auKPI8E9MMS4",
        "outputId": "911defea-f5b7-4608-e8b1-ac13b665d30c",
        "colab": {
          "base_uri": "https://localhost:8080/",
          "height": 101
        }
      },
      "source": [
        "for i in l:\n",
        "  datetime_str = amzn['Crawl Timestamp'][i]\n",
        "  datetime_object = datetime.strptime(datetime_str, '%Y-%m-%d %H:%M:%S %z')\n",
        "  amzn['Crawl Timestamp'][i] = datetime_object"
      ],
      "execution_count": 33,
      "outputs": [
        {
          "output_type": "stream",
          "text": [
            "/usr/local/lib/python3.6/dist-packages/ipykernel_launcher.py:4: SettingWithCopyWarning: \n",
            "A value is trying to be set on a copy of a slice from a DataFrame\n",
            "\n",
            "See the caveats in the documentation: https://pandas.pydata.org/pandas-docs/stable/user_guide/indexing.html#returning-a-view-versus-a-copy\n",
            "  after removing the cwd from sys.path.\n"
          ],
          "name": "stderr"
        }
      ]
    },
    {
      "cell_type": "markdown",
      "metadata": {
        "id": "_NNoNpyvIOLM"
      },
      "source": [
        "## EDA"
      ]
    },
    {
      "cell_type": "code",
      "metadata": {
        "id": "MhttOkKLNDPT",
        "outputId": "3bdd7aff-7f10-453b-e2f5-44933d261bea",
        "colab": {
          "base_uri": "https://localhost:8080/",
          "height": 136
        }
      },
      "source": [
        "amzn.corr()"
      ],
      "execution_count": 34,
      "outputs": [
        {
          "output_type": "execute_result",
          "data": {
            "text/html": [
              "<div>\n",
              "<style scoped>\n",
              "    .dataframe tbody tr th:only-of-type {\n",
              "        vertical-align: middle;\n",
              "    }\n",
              "\n",
              "    .dataframe tbody tr th {\n",
              "        vertical-align: top;\n",
              "    }\n",
              "\n",
              "    .dataframe thead th {\n",
              "        text-align: right;\n",
              "    }\n",
              "</style>\n",
              "<table border=\"1\" class=\"dataframe\">\n",
              "  <thead>\n",
              "    <tr style=\"text-align: right;\">\n",
              "      <th></th>\n",
              "      <th>Mrp</th>\n",
              "      <th>Price</th>\n",
              "      <th>Stock Availibility</th>\n",
              "    </tr>\n",
              "  </thead>\n",
              "  <tbody>\n",
              "    <tr>\n",
              "      <th>Mrp</th>\n",
              "      <td>1.000000</td>\n",
              "      <td>0.893004</td>\n",
              "      <td>0.032141</td>\n",
              "    </tr>\n",
              "    <tr>\n",
              "      <th>Price</th>\n",
              "      <td>0.893004</td>\n",
              "      <td>1.000000</td>\n",
              "      <td>0.038877</td>\n",
              "    </tr>\n",
              "    <tr>\n",
              "      <th>Stock Availibility</th>\n",
              "      <td>0.032141</td>\n",
              "      <td>0.038877</td>\n",
              "      <td>1.000000</td>\n",
              "    </tr>\n",
              "  </tbody>\n",
              "</table>\n",
              "</div>"
            ],
            "text/plain": [
              "                         Mrp     Price  Stock Availibility\n",
              "Mrp                 1.000000  0.893004            0.032141\n",
              "Price               0.893004  1.000000            0.038877\n",
              "Stock Availibility  0.032141  0.038877            1.000000"
            ]
          },
          "metadata": {
            "tags": []
          },
          "execution_count": 34
        }
      ]
    },
    {
      "cell_type": "code",
      "metadata": {
        "id": "Hbij5uq05ncQ"
      },
      "source": [
        "#sns.pairplot(amzn)"
      ],
      "execution_count": 35,
      "outputs": []
    },
    {
      "cell_type": "code",
      "metadata": {
        "id": "-Bl4559NP6sC",
        "outputId": "025dfdbf-2148-40db-93fe-bf09dc3ddf1a",
        "colab": {
          "base_uri": "https://localhost:8080/",
          "height": 335
        }
      },
      "source": [
        "months = [amzn['Crawl Timestamp'][i].day for i in l]\n",
        "sns.lineplot(months,amzn['Price'])"
      ],
      "execution_count": 36,
      "outputs": [
        {
          "output_type": "stream",
          "text": [
            "/usr/local/lib/python3.6/dist-packages/seaborn/_decorators.py:43: FutureWarning: Pass the following variables as keyword args: x, y. From version 0.12, the only valid positional argument will be `data`, and passing other arguments without an explicit keyword will result in an error or misinterpretation.\n",
            "  FutureWarning\n"
          ],
          "name": "stderr"
        },
        {
          "output_type": "execute_result",
          "data": {
            "text/plain": [
              "<matplotlib.axes._subplots.AxesSubplot at 0x7f59c6089dd8>"
            ]
          },
          "metadata": {
            "tags": []
          },
          "execution_count": 36
        },
        {
          "output_type": "display_data",
          "data": {
            "image/png": "[encoded data removed]",
            "text/plain": [
              "<Figure size 432x288 with 1 Axes>"
            ]
          },
          "metadata": {
            "tags": [],
            "needs_background": "light"
          }
        }
      ]
    },
    {
      "cell_type": "code",
      "metadata": {
        "id": "dFmyXHW0c9HS",
        "outputId": "5c6458e1-8919-400d-a231-a318c68fc9fc",
        "colab": {
          "base_uri": "https://localhost:8080/",
          "height": 372
        }
      },
      "source": [
        "plt.figure(figsize = (12,5))\n",
        "plt.title('PLOT FOR CATEGORY VS PRICE',fontsize=30)\n",
        "plt.bar(amzn['Category'].tolist(),amzn['Price'].tolist())\n",
        "plt.xlabel(\"PRODUCT CATEGORY\",fontsize=20)\n",
        "plt.ylabel(\"PRICE\",fontsize=20)\n",
        "plt.show()"
      ],
      "execution_count": 37,
      "outputs": [
        {
          "output_type": "display_data",
          "data": {
            "image/png": "[encoded data removed]",
            "text/plain": [
              "<Figure size 864x360 with 1 Axes>"
            ]
          },
          "metadata": {
            "tags": [],
            "needs_background": "light"
          }
        }
      ]
    },
    {
      "cell_type": "code",
      "metadata": {
        "id": "uNWP5Q2Zf8DC"
      },
      "source": [
        "amzn['Brand'].value_counts()[0:15].tolist()\n",
        "brands = amzn['Brand'].value_counts()"
      ],
      "execution_count": 38,
      "outputs": []
    },
    {
      "cell_type": "code",
      "metadata": {
        "id": "ZRtFdMpAgcfn",
        "outputId": "1cbfe934-f101-4415-ead9-60b390d0d886",
        "colab": {
          "base_uri": "https://localhost:8080/",
          "height": 101
        }
      },
      "source": [
        "brands[0:15].index"
      ],
      "execution_count": 39,
      "outputs": [
        {
          "output_type": "execute_result",
          "data": {
            "text/plain": [
              "Index(['CHOCOCRAFT', 'Generic', 'Chocholik', 'World Beauty', 'BOGATCHI',\n",
              "       'Stockout', 'Parag fragrances', 'Homely', 'Royal Beauty', 'Unknown',\n",
              "       'De'Arco Chocolatier', 'Ancient Flower', 'BeautyNeeds', 'Ubervia',\n",
              "       'SLB Works'],\n",
              "      dtype='object')"
            ]
          },
          "metadata": {
            "tags": []
          },
          "execution_count": 39
        }
      ]
    },
    {
      "cell_type": "code",
      "metadata": {
        "id": "WSsGS4V3gopE",
        "outputId": "8535290a-108b-4152-8c96-a7ce6188594e",
        "colab": {
          "base_uri": "https://localhost:8080/",
          "height": 410
        }
      },
      "source": [
        "plt.figure(figsize = (25,8))\n",
        "plt.title('PLOT FOR BRAND VS QUANTITY SOLD',fontsize=30)\n",
        "plt.bar(list(brands[0:10].index),amzn['Brand'].value_counts()[0:10].tolist())\n",
        "plt.xlabel(\"BRAND NAME\",fontsize=20)\n",
        "plt.ylabel(\"QUANTITY SOLD\",fontsize=20)\n",
        "plt.show()"
      ],
      "execution_count": 40,
      "outputs": [
        {
          "output_type": "display_data",
          "data": {
            "image/png": "[encoded data removed]",
            "text/plain": [
              "<Figure size 1800x576 with 1 Axes>"
            ]
          },
          "metadata": {
            "tags": [],
            "needs_background": "light"
          }
        }
      ]
    },
    {
      "cell_type": "markdown",
      "metadata": {
        "id": "BZzVwitEobez"
      },
      "source": [
        "**STOCK AVAILABILTY FOR DIFFERENT PRODUCTS**"
      ]
    },
    {
      "cell_type": "code",
      "metadata": {
        "id": "c7jbdl9QkCi1",
        "outputId": "8fec4cd8-c02d-41a1-8c86-ac7e8f98b3c4",
        "colab": {
          "base_uri": "https://localhost:8080/",
          "height": 1000
        }
      },
      "source": [
        "plt.figure(figsize = (12,5))\n",
        "plt.title(\"SKIN CARE PRODUCTS\")\n",
        "plt.pie(skin_care['Stock Availibility'].value_counts().tolist(),labels=['AVAILABLE','NOT AVAILABLE'])\n",
        "plt.show()\n",
        "print(\"------------------------------------------------------------\")\n",
        "plt.figure(figsize = (12,5))\n",
        "plt.title(\"GROCERY PRODUCTS\")\n",
        "plt.pie(grocery['Stock Availibility'].value_counts().tolist(),labels=['AVAILABLE','NOT AVAILABLE'])\n",
        "plt.show()\n",
        "print(\"------------------------------------------------------------\")\n",
        "plt.figure(figsize = (12,5))\n",
        "plt.title(\"BATH AND SHOWER PRODUCTS\")\n",
        "plt.pie(bath['Stock Availibility'].value_counts().tolist(),labels=['AVAILABLE','NOT AVAILABLE'])\n",
        "plt.show()\n",
        "print(\"------------------------------------------------------------\")\n",
        "plt.figure(figsize = (12,5))\n",
        "plt.title(\"FRAGRANCE PRODUCTS\")\n",
        "plt.pie(bath['Stock Availibility'].value_counts().tolist(),labels=['AVAILABLE','NOT AVAILABLE'])\n",
        "plt.show()\n",
        "print(\"------------------------------------------------------------\")\n",
        "plt.figure(figsize = (12,5))\n",
        "plt.title(\"HAIR CARE PRODUCTS\")\n",
        "plt.pie(Hair['Stock Availibility'].value_counts().tolist(),labels=['AVAILABLE','NOT AVAILABLE'])\n",
        "plt.show()\n",
        "print(\"------------------------------------------------------------\")\n",
        "plt.figure(figsize = (12,5))\n",
        "plt.title(\"DETERGENTS & DISHWASH\")\n",
        "plt.pie(Dish['Stock Availibility'].value_counts().tolist(),labels=['AVAILABLE','NOT AVAILABLE'])\n",
        "plt.show()"
      ],
      "execution_count": 41,
      "outputs": [
        {
          "output_type": "display_data",
          "data": {
            "image/png": "[encoded data removed]",
            "text/plain": [
              "<Figure size 864x360 with 1 Axes>"
            ]
          },
          "metadata": {
            "tags": []
          }
        },
        {
          "output_type": "stream",
          "text": [
            "------------------------------------------------------------\n"
          ],
          "name": "stdout"
        },
        {
          "output_type": "display_data",
          "data": {
            "image/png": "[encoded data removed]",
            "text/plain": [
              "<Figure size 864x360 with 1 Axes>"
            ]
          },
          "metadata": {
            "tags": []
          }
        },
        {
          "output_type": "stream",
          "text": [
            "------------------------------------------------------------\n"
          ],
          "name": "stdout"
        },
        {
          "output_type": "display_data",
          "data": {
            "image/png": "[encoded data removed]",
            "text/plain": [
              "<Figure size 864x360 with 1 Axes>"
            ]
          },
          "metadata": {
            "tags": []
          }
        },
        {
          "output_type": "stream",
          "text": [
            "------------------------------------------------------------\n"
          ],
          "name": "stdout"
        },
        {
          "output_type": "display_data",
          "data": {
            "image/png": "[encoded data removed]",
            "text/plain": [
              "<Figure size 864x360 with 1 Axes>"
            ]
          },
          "metadata": {
            "tags": []
          }
        },
        {
          "output_type": "stream",
          "text": [
            "------------------------------------------------------------\n"
          ],
          "name": "stdout"
        },
        {
          "output_type": "display_data",
          "data": {
            "image/png": "[encoded data removed]",
            "text/plain": [
              "<Figure size 864x360 with 1 Axes>"
            ]
          },
          "metadata": {
            "tags": []
          }
        },
        {
          "output_type": "stream",
          "text": [
            "------------------------------------------------------------\n"
          ],
          "name": "stdout"
        },
        {
          "output_type": "display_data",
          "data": {
            "image/png": "[encoded data removed]",
            "text/plain": [
              "<Figure size 864x360 with 1 Axes>"
            ]
          },
          "metadata": {
            "tags": []
          }
        }
      ]
    },
    {
      "cell_type": "code",
      "metadata": {
        "id": "atCAIwPgkjob",
        "outputId": "15489f2c-9809-4134-d88c-79d54a8fa16c",
        "colab": {
          "base_uri": "https://localhost:8080/",
          "height": 351
        }
      },
      "source": [
        "plt.figure(figsize = (12,5))\n",
        "sns.barplot(x = amzn['Category'],y=amzn['Offers'])"
      ],
      "execution_count": 42,
      "outputs": [
        {
          "output_type": "execute_result",
          "data": {
            "text/plain": [
              "<matplotlib.axes._subplots.AxesSubplot at 0x7f59c58e8588>"
            ]
          },
          "metadata": {
            "tags": []
          },
          "execution_count": 42
        },
        {
          "output_type": "display_data",
          "data": {
            "image/png": "[encoded data removed]",
            "text/plain": [
              "<Figure size 864x360 with 1 Axes>"
            ]
          },
          "metadata": {
            "tags": [],
            "needs_background": "light"
          }
        }
      ]
    },
    {
      "cell_type": "code",
      "metadata": {
        "id": "rmEQQ934vH54",
        "outputId": "ccc98b9a-d7a7-4c5d-d531-14fb807fbf4e",
        "colab": {
          "base_uri": "https://localhost:8080/",
          "height": 609
        }
      },
      "source": [
        "plt.figure(figsize = (12,10))\n",
        "\n",
        "a = amzn[amzn['Category'] == 'Skin Care']\n",
        "l = list(a.index)\n",
        "months_skin_care = [a['Crawl Timestamp'][i].day for i in l]\n",
        "\n",
        "days = list(set(months_skin_care))\n",
        "product_sold_per_day_a =[months_skin_care.count(i) for i in days]\n",
        "\n",
        "\n",
        "\n",
        "b = amzn[amzn['Category'] == 'Grocery & Gourmet Foods']\n",
        "l = list(b.index)\n",
        "months_grocery = [b['Crawl Timestamp'][i].day for i in l]\n",
        "\n",
        "product_sold_per_day_b =[months_grocery.count(i) for i in days]\n",
        "\n",
        "\n",
        "\n",
        "c = amzn[amzn['Category'] == 'Bath & Shower']\n",
        "l = list(c.index)\n",
        "\n",
        "months_grocery = [c['Crawl Timestamp'][i].day for i in l]\n",
        "\n",
        "product_sold_per_day_c =[months_grocery.count(i) for i in days]\n",
        "\n",
        "\n",
        "d = amzn[amzn['Category'] == 'Fragrance']\n",
        "l = list(d.index)\n",
        "\n",
        "months_grocery = [d['Crawl Timestamp'][i].day for i in l]\n",
        "\n",
        "product_sold_per_day_d =[months_grocery.count(i) for i in days]\n",
        "\n",
        "\n",
        "e = amzn[amzn['Category'] == 'Hair Care']\n",
        "l = list(e.index)\n",
        "\n",
        "months_grocery = [e['Crawl Timestamp'][i].day for i in l]\n",
        "\n",
        "product_sold_per_day_e =[months_grocery.count(i) for i in days]\n",
        "\n",
        "\n",
        "\n",
        "f = amzn[amzn['Category'] == 'Detergents & Dishwash']\n",
        "l = list(f.index)\n",
        "months_grocery = [f['Crawl Timestamp'][i].day for i in l]\n",
        "\n",
        "product_sold_per_day_f =[months_grocery.count(i) for i in days]\n",
        "print(product_sold_per_day_f)\n",
        "\n",
        "plt.plot(days,product_sold_per_day_a,label=\"skin care\")\n",
        "plt.plot(days,product_sold_per_day_b,label=\"grocery\")\n",
        "plt.plot(days,product_sold_per_day_c,label=\"bath & shower\")\n",
        "plt.plot(days,product_sold_per_day_d,label =\"fragrance\")\n",
        "plt.plot(days,product_sold_per_day_e,label =\"hair care\")\n",
        "plt.plot(days,product_sold_per_day_f,label =\"detergents & dishwash\")\n",
        "plt.legend(loc=\"upper left\",fontsize=18)\n",
        "plt.show()"
      ],
      "execution_count": 43,
      "outputs": [
        {
          "output_type": "stream",
          "text": [
            "[40, 36, 52, 69]\n"
          ],
          "name": "stdout"
        },
        {
          "output_type": "display_data",
          "data": {
            "image/png": "[encoded data removed]",
            "text/plain": [
              "<Figure size 864x720 with 1 Axes>"
            ]
          },
          "metadata": {
            "tags": [],
            "needs_background": "light"
          }
        }
      ]
    },
    {
      "cell_type": "markdown",
      "metadata": {
        "id": "KSPXdECoet-H"
      },
      "source": [
        "### CORRELATION STUFF"
      ]
    },
    {
      "cell_type": "code",
      "metadata": {
        "id": "AjE5Laesexbf",
        "outputId": "b8c44b24-794a-4479-f23f-56495d64c591",
        "colab": {
          "base_uri": "https://localhost:8080/",
          "height": 136
        }
      },
      "source": [
        "amzn.corr()"
      ],
      "execution_count": 44,
      "outputs": [
        {
          "output_type": "execute_result",
          "data": {
            "text/html": [
              "<div>\n",
              "<style scoped>\n",
              "    .dataframe tbody tr th:only-of-type {\n",
              "        vertical-align: middle;\n",
              "    }\n",
              "\n",
              "    .dataframe tbody tr th {\n",
              "        vertical-align: top;\n",
              "    }\n",
              "\n",
              "    .dataframe thead th {\n",
              "        text-align: right;\n",
              "    }\n",
              "</style>\n",
              "<table border=\"1\" class=\"dataframe\">\n",
              "  <thead>\n",
              "    <tr style=\"text-align: right;\">\n",
              "      <th></th>\n",
              "      <th>Mrp</th>\n",
              "      <th>Price</th>\n",
              "      <th>Stock Availibility</th>\n",
              "    </tr>\n",
              "  </thead>\n",
              "  <tbody>\n",
              "    <tr>\n",
              "      <th>Mrp</th>\n",
              "      <td>1.000000</td>\n",
              "      <td>0.893004</td>\n",
              "      <td>0.032141</td>\n",
              "    </tr>\n",
              "    <tr>\n",
              "      <th>Price</th>\n",
              "      <td>0.893004</td>\n",
              "      <td>1.000000</td>\n",
              "      <td>0.038877</td>\n",
              "    </tr>\n",
              "    <tr>\n",
              "      <th>Stock Availibility</th>\n",
              "      <td>0.032141</td>\n",
              "      <td>0.038877</td>\n",
              "      <td>1.000000</td>\n",
              "    </tr>\n",
              "  </tbody>\n",
              "</table>\n",
              "</div>"
            ],
            "text/plain": [
              "                         Mrp     Price  Stock Availibility\n",
              "Mrp                 1.000000  0.893004            0.032141\n",
              "Price               0.893004  1.000000            0.038877\n",
              "Stock Availibility  0.032141  0.038877            1.000000"
            ]
          },
          "metadata": {
            "tags": []
          },
          "execution_count": 44
        }
      ]
    },
    {
      "cell_type": "code",
      "metadata": {
        "id": "TyJhZbcJgkfh",
        "outputId": "ae8816f9-397f-4451-b3e0-ee8fabaf69b1",
        "colab": {
          "base_uri": "https://localhost:8080/",
          "height": 311
        }
      },
      "source": [
        "sns.heatmap(amzn.corr(),annot=True)"
      ],
      "execution_count": 45,
      "outputs": [
        {
          "output_type": "execute_result",
          "data": {
            "text/plain": [
              "<matplotlib.axes._subplots.AxesSubplot at 0x7f59b2b0e048>"
            ]
          },
          "metadata": {
            "tags": []
          },
          "execution_count": 45
        },
        {
          "output_type": "display_data",
          "data": {
            "image/png": "[encoded data removed]",
            "text/plain": [
              "<Figure size 432x288 with 2 Axes>"
            ]
          },
          "metadata": {
            "tags": [],
            "needs_background": "light"
          }
        }
      ]
    },
    {
      "cell_type": "markdown",
      "metadata": {
        "id": "PO7kUJYDhIWn"
      },
      "source": [
        "### NORMALISATION"
      ]
    },
    {
      "cell_type": "code",
      "metadata": {
        "id": "0XNp4qj8hLbO",
        "outputId": "35c4e8a8-acdd-407f-d74b-35d763987397",
        "colab": {
          "base_uri": "https://localhost:8080/",
          "height": 67
        }
      },
      "source": [
        "print(\"THE MEAN OF THE PRICE COLUMN IS: \",np.mean(amzn['Price'].tolist()))\n",
        "print(\"THE VARIANCE OF THE PRICE COLUMN IS: \",np.var(amzn['Price'].tolist()))\n",
        "print(\"THE STANDARD DEVIATION OF THE PRICE COLUMN IS: \",(np.std(amzn['Price'].tolist())))"
      ],
      "execution_count": 46,
      "outputs": [
        {
          "output_type": "stream",
          "text": [
            "THE MEAN OF THE PRICE COLUMN IS:  2006.4594916666667\n",
            "THE VARIANCE OF THE PRICE COLUMN IS:  5271893.747172533\n",
            "THE STANDARD DEVIATION OF THE PRICE COLUMN IS:  2296.060484214763\n"
          ],
          "name": "stdout"
        }
      ]
    },
    {
      "cell_type": "code",
      "metadata": {
        "id": "x0PBKl0phiS9",
        "outputId": "43fa65eb-b829-4d96-b990-3d7ac7a64dd7",
        "colab": {
          "base_uri": "https://localhost:8080/",
          "height": 67
        }
      },
      "source": [
        "print(\"THE MEAN OF THE MRP COLUMN IS: \",np.mean(amzn['Mrp'].tolist()))\n",
        "print(\"THE VARIANCE OF THE MRP COLUMN IS: \",np.var(amzn['Mrp'].tolist()))\n",
        "print(\"THE STANDARD DEVIATION OF THE MRP COLUMN IS: \",np.sqrt(np.var(amzn['Mrp'].tolist())))"
      ],
      "execution_count": 47,
      "outputs": [
        {
          "output_type": "stream",
          "text": [
            "THE MEAN OF THE MRP COLUMN IS:  2499.5243506666666\n",
            "THE VARIANCE OF THE MRP COLUMN IS:  9359821.070899704\n",
            "THE STANDARD DEVIATION OF THE MRP COLUMN IS:  3059.382465612906\n"
          ],
          "name": "stdout"
        }
      ]
    },
    {
      "cell_type": "markdown",
      "metadata": {
        "id": "4X8cMUI7mmBS"
      },
      "source": [
        "#### STANDARDIZATION\n",
        "Standardization transforms data to have a mean of zero and a standard deviation of 1. \n",
        "\n",
        "\n",
        "\n",
        "![image.png](data:image/png;base64,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)"
      ]
    },
    {
      "cell_type": "code",
      "metadata": {
        "id": "BhZfzFIAkF2G"
      },
      "source": [
        "z_scores_price = []\n",
        "mean_price = np.mean(amzn['Price'])\n",
        "std_price = np.std(amzn['Price'])\n",
        "for i in range(len(amzn['Uniq Id'])):\n",
        "  z = (amzn['Price'][i] - mean_price)/std_price\n",
        "  z_scores_price.append(z)"
      ],
      "execution_count": 48,
      "outputs": []
    },
    {
      "cell_type": "code",
      "metadata": {
        "id": "_VUdkjRBnXr7",
        "outputId": "0c5ecaa9-fc36-49a7-c0c6-3ea56b178b7c",
        "colab": {
          "base_uri": "https://localhost:8080/",
          "height": 34
        }
      },
      "source": [
        "np.var(z_scores_price)"
      ],
      "execution_count": 49,
      "outputs": [
        {
          "output_type": "execute_result",
          "data": {
            "text/plain": [
              "0.9999999999999908"
            ]
          },
          "metadata": {
            "tags": []
          },
          "execution_count": 49
        }
      ]
    },
    {
      "cell_type": "code",
      "metadata": {
        "id": "vnMzn9o6P0KF",
        "outputId": "86e50d68-8327-4014-f0c2-ff19a7921e3c",
        "colab": {
          "base_uri": "https://localhost:8080/",
          "height": 34
        }
      },
      "source": [
        "print(round(np.mean(z_scores_price),2))"
      ],
      "execution_count": 50,
      "outputs": [
        {
          "output_type": "stream",
          "text": [
            "-0.0\n"
          ],
          "name": "stdout"
        }
      ]
    },
    {
      "cell_type": "code",
      "metadata": {
        "id": "2Tootd8dnZNq",
        "outputId": "18c06245-3178-44c6-ee8f-e9c76099a231",
        "colab": {
          "base_uri": "https://localhost:8080/",
          "height": 338
        }
      },
      "source": [
        "sns.distplot(z_scores_price,kde=True)"
      ],
      "execution_count": 51,
      "outputs": [
        {
          "output_type": "stream",
          "text": [
            "/usr/local/lib/python3.6/dist-packages/seaborn/distributions.py:2551: FutureWarning: `distplot` is a deprecated function and will be removed in a future version. Please adapt your code to use either `displot` (a figure-level function with similar flexibility) or `histplot` (an axes-level function for histograms).\n",
            "  warnings.warn(msg, FutureWarning)\n"
          ],
          "name": "stderr"
        },
        {
          "output_type": "execute_result",
          "data": {
            "text/plain": [
              "<matplotlib.axes._subplots.AxesSubplot at 0x7f59b1b08f98>"
            ]
          },
          "metadata": {
            "tags": []
          },
          "execution_count": 51
        },
        {
          "output_type": "display_data",
          "data": {
            "image/png": "[encoded data removed]",
            "text/plain": [
              "<Figure size 432x288 with 1 Axes>"
            ]
          },
          "metadata": {
            "tags": [],
            "needs_background": "light"
          }
        }
      ]
    },
    {
      "cell_type": "markdown",
      "metadata": {
        "id": "QZr5zQZL95qU"
      },
      "source": [
        "### HYPOTHESIS TESTING"
      ]
    },
    {
      "cell_type": "code",
      "metadata": {
        "id": "TIOV8b3S-1-N"
      },
      "source": [
        "'''\n",
        "Hypothesis :\n",
        "To check wether the offers increases with time\n",
        "\n",
        "Average price on 28 : x\n",
        "H0: mu0 <= x\n",
        "H1: mu0 >  x\n",
        "alpha = 0.05\n",
        "\n",
        "Here mu0 represents the Average Price on 31\n",
        "\n",
        "'''\n",
        "_28 = []\n",
        "_31 = []\n",
        "\n",
        "for i in range(len(amzn['Uniq Id'])):\n",
        "  if(amzn['Crawl Timestamp'][i].day == 28):\n",
        "    _28.append(amzn['Offers'][i])\n",
        "  if(amzn['Crawl Timestamp'][i].day == 31):\n",
        "    _31.append(amzn['Offers'][i])"
      ],
      "execution_count": 59,
      "outputs": []
    },
    {
      "cell_type": "code",
      "metadata": {
        "id": "HmR4Qg93LEsZ",
        "outputId": "e373cf1a-173f-419c-f18d-658f0d7533a0",
        "colab": {
          "base_uri": "https://localhost:8080/",
          "height": 34
        }
      },
      "source": [
        "len(_31)"
      ],
      "execution_count": 62,
      "outputs": [
        {
          "output_type": "execute_result",
          "data": {
            "text/plain": [
              "7964"
            ]
          },
          "metadata": {
            "tags": []
          },
          "execution_count": 62
        }
      ]
    },
    {
      "cell_type": "code",
      "metadata": {
        "id": "PDSoyEtrKrW1",
        "outputId": "ee22ac3d-24c2-4538-818d-bd455eba2575",
        "colab": {
          "base_uri": "https://localhost:8080/",
          "height": 34
        }
      },
      "source": [
        "from random import sample\n",
        "from scipy.stats import norm\n",
        "\n",
        "mean_28 = np.mean(_28)\n",
        "\n",
        "smpl = []\n",
        "\n",
        "for i in sample(range(len(_31)), 100):\n",
        "    smpl.append(_31[i])\n",
        "meanSample = np.mean(smpl)\n",
        "stdSample =  np.std(smpl)\n",
        "\n",
        "w = (meanSample - mean_28)/(stdSample / (100**0.5))\n",
        "p = norm.cdf(w)\n",
        "\n",
        "print(p, len(_31))"
      ],
      "execution_count": 67,
      "outputs": [
        {
          "output_type": "stream",
          "text": [
            "0.35746403227222656 7964\n"
          ],
          "name": "stdout"
        }
      ]
    },
    {
      "cell_type": "markdown",
      "metadata": {
        "id": "D78JxciTMOSw"
      },
      "source": [
        "From the value of p, we can see that it is greater than alpha (= 0.05),hence, we fail to reject the Null Hypothesis i. e.\n",
        "we cannot say that the Average Price of the Avocados has increased over the years from 2015 to 2018."
      ]
    }
  ]
}